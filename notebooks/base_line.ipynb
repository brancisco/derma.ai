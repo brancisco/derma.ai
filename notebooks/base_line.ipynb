{
 "cells": [
  {
   "cell_type": "code",
   "execution_count": 1,
   "metadata": {},
   "outputs": [
    {
     "name": "stderr",
     "output_type": "stream",
     "text": [
      "Using TensorFlow backend.\n"
     ]
    }
   ],
   "source": [
    "from keras.preprocessing.image import ImageDataGenerator\n",
    "from keras.applications.inception_v3 import preprocess_input"
   ]
  },
  {
   "cell_type": "code",
   "execution_count": 2,
   "metadata": {},
   "outputs": [],
   "source": [
    "train_path = \"original_data/training\"\n",
    "validation_path = \"original_data/validation\"\n",
    "test_path = \"original_data/test\""
   ]
  },
  {
   "cell_type": "code",
   "execution_count": 3,
   "metadata": {},
   "outputs": [],
   "source": [
    "dimentions = (299, 299)\n",
    "batch_size = 64\n",
    "\n",
    "n_class = 2"
   ]
  },
  {
   "cell_type": "code",
   "execution_count": 4,
   "metadata": {},
   "outputs": [],
   "source": [
    "train_datagen  = ImageDataGenerator(\n",
    "    preprocessing_function=preprocess_input,\n",
    ")"
   ]
  },
  {
   "cell_type": "code",
   "execution_count": 5,
   "metadata": {},
   "outputs": [],
   "source": [
    "valid_datagen  = ImageDataGenerator(\n",
    "    preprocessing_function=preprocess_input,\n",
    ")"
   ]
  },
  {
   "cell_type": "code",
   "execution_count": 6,
   "metadata": {},
   "outputs": [
    {
     "name": "stdout",
     "output_type": "stream",
     "text": [
      "Found 717 images belonging to 2 classes.\n"
     ]
    }
   ],
   "source": [
    "train_generator = train_datagen.flow_from_directory(\n",
    "    train_path, \n",
    "    target_size=dimentions,\n",
    "    batch_size=batch_size\n",
    ")"
   ]
  },
  {
   "cell_type": "code",
   "execution_count": 7,
   "metadata": {},
   "outputs": [
    {
     "name": "stdout",
     "output_type": "stream",
     "text": [
      "Found 239 images belonging to 2 classes.\n"
     ]
    }
   ],
   "source": [
    "validation_generator = valid_datagen.flow_from_directory(\n",
    "    validation_path, \n",
    "    target_size=dimentions,\n",
    "    batch_size=batch_size\n",
    ")"
   ]
  },
  {
   "cell_type": "code",
   "execution_count": 8,
   "metadata": {},
   "outputs": [
    {
     "name": "stdout",
     "output_type": "stream",
     "text": [
      "Found 239 images belonging to 2 classes.\n"
     ]
    }
   ],
   "source": [
    "test_generator = valid_datagen.flow_from_directory(\n",
    "    test_path, \n",
    "    target_size=dimentions,\n",
    "    batch_size=batch_size\n",
    ")"
   ]
  },
  {
   "cell_type": "code",
   "execution_count": null,
   "metadata": {},
   "outputs": [],
   "source": []
  },
  {
   "cell_type": "code",
   "execution_count": 9,
   "metadata": {},
   "outputs": [],
   "source": [
    "from keras.applications.inception_v3 import InceptionV3\n",
    "from keras.layers import GlobalAveragePooling2D, Dropout, Dense, Input\n",
    "from keras.models import Model\n",
    "\n",
    "base_model = InceptionV3(\n",
    "    weights='imagenet', \n",
    "    include_top=False,\n",
    ")\n",
    "\n",
    "x = base_model.output \n",
    "x = GlobalAveragePooling2D()(x) \n",
    "x = Dense(1024, activation='relu')(x) \n",
    "predictions = Dense(n_class, activation='softmax')(x)    \n",
    "model = Model(inputs=base_model.input, outputs=predictions)"
   ]
  },
  {
   "cell_type": "code",
   "execution_count": null,
   "metadata": {},
   "outputs": [],
   "source": []
  },
  {
   "cell_type": "code",
   "execution_count": 10,
   "metadata": {},
   "outputs": [],
   "source": [
    "from keras import metrics\n",
    "\n",
    "model.compile(\n",
    "    optimizer='adam',\n",
    "    loss='categorical_crossentropy', \n",
    "    metrics=['accuracy']\n",
    ")"
   ]
  },
  {
   "cell_type": "code",
   "execution_count": 11,
   "metadata": {},
   "outputs": [],
   "source": [
    "from keras.callbacks import ModelCheckpoint  \n",
    "\n",
    "# !mkdir saved_models\n",
    "\n",
    "model_file = 'saved_models/baseline_weights.best.InceptionV3.hdf5'\n",
    "checkpointer = ModelCheckpoint(filepath=model_file, \n",
    "                               verbose=1, save_best_only=True)"
   ]
  },
  {
   "cell_type": "code",
   "execution_count": 12,
   "metadata": {},
   "outputs": [],
   "source": [
    "epochs = 10"
   ]
  },
  {
   "cell_type": "code",
   "execution_count": 13,
   "metadata": {},
   "outputs": [
    {
     "name": "stdout",
     "output_type": "stream",
     "text": [
      "Epoch 1/10\n",
      "11/11 [==============================] - 140s 13s/step - loss: 0.4061 - acc: 0.8580 - val_loss: 0.5030 - val_acc: 0.7083\n",
      "\n",
      "Epoch 00001: val_loss improved from inf to 0.50300, saving model to saved_models/baseline_weights.best.InceptionV3.hdf5\n",
      "Epoch 2/10\n",
      "11/11 [==============================] - 58s 5s/step - loss: 0.1223 - acc: 0.9542 - val_loss: 1.5201 - val_acc: 0.6971\n",
      "\n",
      "Epoch 00002: val_loss did not improve from 0.50300\n",
      "Epoch 3/10\n",
      "11/11 [==============================] - 94s 9s/step - loss: 0.1037 - acc: 0.9577 - val_loss: 0.6320 - val_acc: 0.7771\n",
      "\n",
      "Epoch 00003: val_loss did not improve from 0.50300\n",
      "Epoch 4/10\n",
      "11/11 [==============================] - 97s 9s/step - loss: 0.1227 - acc: 0.9575 - val_loss: 0.2043 - val_acc: 0.9086\n",
      "\n",
      "Epoch 00004: val_loss improved from 0.50300 to 0.20434, saving model to saved_models/baseline_weights.best.InceptionV3.hdf5\n",
      "Epoch 5/10\n",
      "11/11 [==============================] - 95s 9s/step - loss: 0.0686 - acc: 0.9628 - val_loss: 1.4702 - val_acc: 0.7292\n",
      "\n",
      "Epoch 00005: val_loss did not improve from 0.20434\n",
      "Epoch 6/10\n",
      "11/11 [==============================] - 94s 9s/step - loss: 0.0548 - acc: 0.9843 - val_loss: 0.1186 - val_acc: 0.9429\n",
      "\n",
      "Epoch 00006: val_loss improved from 0.20434 to 0.11863, saving model to saved_models/baseline_weights.best.InceptionV3.hdf5\n",
      "Epoch 7/10\n",
      "11/11 [==============================] - 97s 9s/step - loss: 0.0357 - acc: 0.9828 - val_loss: 0.1246 - val_acc: 0.9657\n",
      "\n",
      "Epoch 00007: val_loss did not improve from 0.11863\n",
      "Epoch 8/10\n",
      "11/11 [==============================] - 91s 8s/step - loss: 0.0760 - acc: 0.9692 - val_loss: 0.4269 - val_acc: 0.8857\n",
      "\n",
      "Epoch 00008: val_loss did not improve from 0.11863\n",
      "Epoch 9/10\n",
      "11/11 [==============================] - 96s 9s/step - loss: 0.0999 - acc: 0.9634 - val_loss: 0.8958 - val_acc: 0.8333\n",
      "\n",
      "Epoch 00009: val_loss did not improve from 0.11863\n",
      "Epoch 10/10\n",
      "11/11 [==============================] - 95s 9s/step - loss: 0.0761 - acc: 0.9649 - val_loss: 2.0213 - val_acc: 0.8229\n",
      "\n",
      "Epoch 00010: val_loss did not improve from 0.11863\n"
     ]
    }
   ],
   "source": [
    "train_history = model.fit_generator(train_generator, \n",
    "                                    validation_data=validation_generator, \n",
    "                                    epochs=epochs, \n",
    "                                    callbacks=[checkpointer],\n",
    "                                    steps_per_epoch=train_generator.samples // batch_size, \n",
    "                                    validation_steps=validation_generator.samples // batch_size\n",
    "                                   )"
   ]
  },
  {
   "cell_type": "code",
   "execution_count": null,
   "metadata": {},
   "outputs": [],
   "source": []
  },
  {
   "cell_type": "code",
   "execution_count": 14,
   "metadata": {},
   "outputs": [
    {
     "data": {
      "text/plain": [
       "{'val_loss': [0.5029961466789246,\n",
       "  1.5201146078109742,\n",
       "  0.6320480292184012,\n",
       "  0.2043379032611847,\n",
       "  1.4702302018801372,\n",
       "  0.1186346903869084,\n",
       "  0.12461295012916837,\n",
       "  0.4269487619400024,\n",
       "  0.8958050409952799,\n",
       "  2.0213493640082225],\n",
       " 'val_acc': [0.7083333333333334,\n",
       "  0.6971428506714957,\n",
       "  0.7771428632736206,\n",
       "  0.9085714319774083,\n",
       "  0.7291666666666666,\n",
       "  0.9428571442195347,\n",
       "  0.9657142870766776,\n",
       "  0.8857142911638533,\n",
       "  0.8333333333333334,\n",
       "  0.8228571489879063],\n",
       " 'loss': [0.4061406823721799,\n",
       "  0.12932204843639963,\n",
       "  0.09900227846266847,\n",
       "  0.0916782634911822,\n",
       "  0.07187362796531428,\n",
       "  0.058687142614356515,\n",
       "  0.035663173327173975,\n",
       "  0.07373699894999289,\n",
       "  0.09452060389847339,\n",
       "  0.07447773968917852],\n",
       " 'acc': [0.8579545454545454,\n",
       "  0.9509954058192955,\n",
       "  0.9601837673194558,\n",
       "  0.9709035224790412,\n",
       "  0.9601837672281777,\n",
       "  0.9831546707503829,\n",
       "  0.9816232771822359,\n",
       "  0.9724349158646319,\n",
       "  0.9663093415920438,\n",
       "  0.9678407351601909]}"
      ]
     },
     "execution_count": 14,
     "metadata": {},
     "output_type": "execute_result"
    }
   ],
   "source": [
    "train_history.history"
   ]
  },
  {
   "cell_type": "code",
   "execution_count": 35,
   "metadata": {},
   "outputs": [],
   "source": [
    "import matplotlib.pyplot as plt"
   ]
  },
  {
   "cell_type": "code",
   "execution_count": 38,
   "metadata": {},
   "outputs": [
    {
     "data": {
      "image/png": "[encoded data removed]",
      "text/plain": [
       "<Figure size 432x288 with 1 Axes>"
      ]
     },
     "metadata": {},
     "output_type": "display_data"
    }
   ],
   "source": [
    "plt.plot(train_history.history['acc'])\n",
    "plt.plot(train_history.history['val_acc'])\n",
    "plt.title('model accuracy')\n",
    "plt.ylabel('accuracy')\n",
    "plt.xlabel('epoch')\n",
    "plt.legend(['train', 'validation'])\n",
    "plt.show()"
   ]
  },
  {
   "cell_type": "code",
   "execution_count": 39,
   "metadata": {},
   "outputs": [
    {
     "data": {
      "image/png": "[encoded data removed]",
      "text/plain": [
       "<Figure size 432x288 with 1 Axes>"
      ]
     },
     "metadata": {},
     "output_type": "display_data"
    }
   ],
   "source": [
    "plt.plot(train_history.history['loss'])\n",
    "plt.plot(train_history.history['val_acc'])\n",
    "plt.title('model loss')\n",
    "plt.ylabel('loss')\n",
    "plt.xlabel('epoch')\n",
    "plt.legend(['train', 'validation'])\n",
    "plt.show()"
   ]
  },
  {
   "cell_type": "code",
   "execution_count": 15,
   "metadata": {},
   "outputs": [],
   "source": [
    "tesr_result = model.evaluate_generator(test_generator, steps=10)"
   ]
  },
  {
   "cell_type": "code",
   "execution_count": 16,
   "metadata": {},
   "outputs": [
    {
     "data": {
      "text/plain": [
       "[2.1471381096950064, 0.8052805279544478]"
      ]
     },
     "execution_count": 16,
     "metadata": {},
     "output_type": "execute_result"
    }
   ],
   "source": [
    "tesr_result"
   ]
  },
  {
   "cell_type": "code",
   "execution_count": 17,
   "metadata": {},
   "outputs": [],
   "source": [
    "predict = model.predict_generator(test_generator,steps = 10)"
   ]
  },
  {
   "cell_type": "code",
   "execution_count": 19,
   "metadata": {},
   "outputs": [],
   "source": [
    "import cv2\n",
    "import numpy as np\n",
    "\n",
    "\n",
    "from keras.preprocessing import image\n",
    "# img = cv2.imread(path_to_one_file)\n",
    "# img = np.array([img]).reshape((1, 3, 299, 299))\n",
    "\n",
    "def to_tensor(img_path): \n",
    "    img = image.load_img(img_path, target_size=(299, 299))\n",
    "    img_tensor = image.img_to_array(img)                    # (height, width, channels)\n",
    "    img_tensor = np.expand_dims(img_tensor, axis=0)         # (1, height, width, channels), add a dimension because the model expects this shape: (batch_size, height, width, channels)\n",
    "    img_tensor /= 255. \n",
    "    \n",
    "    return img_tensor"
   ]
  },
  {
   "cell_type": "code",
   "execution_count": 24,
   "metadata": {},
   "outputs": [],
   "source": [
    "def make_predict(img_path): \n",
    "    class_dic = {}\n",
    "    for k, v in test_generator.class_indices.items():\n",
    "        class_dic[v] = k\n",
    "    \n",
    "    \n",
    "    y_prob = model.predict(to_tensor(img_path))\n",
    "    y_classes = y_prob.argmax(axis=-1)\n",
    "    return class_dic[y_classes[0]]"
   ]
  },
  {
   "cell_type": "code",
   "execution_count": 25,
   "metadata": {},
   "outputs": [
    {
     "data": {
      "text/plain": [
       "'benign'"
      ]
     },
     "execution_count": 25,
     "metadata": {},
     "output_type": "execute_result"
    }
   ],
   "source": [
    "img_path = \"original_data/test/benign/ISIC_0004472.jpg\"\n",
    "make_predict(img_path)"
   ]
  },
  {
   "cell_type": "code",
   "execution_count": 43,
   "metadata": {},
   "outputs": [
    {
     "name": "stdout",
     "output_type": "stream",
     "text": [
      "{'benign': 0, 'malignant': 1}\n",
      "{0: 'benign', 1: 'malignant'}\n"
     ]
    }
   ],
   "source": [
    "class_dic = dict(test_generator.class_indices)\n",
    "print(class_dic)\n",
    "\n",
    "one_hot = {}\n",
    "for k, v in test_generator.class_indices.items():\n",
    "    one_hot[v] = k\n",
    "print(one_hot)"
   ]
  },
  {
   "cell_type": "code",
   "execution_count": 28,
   "metadata": {},
   "outputs": [],
   "source": [
    "from os import listdir \n",
    "\n",
    "y_true = [] \n",
    "y_pred = []\n",
    "\n",
    "class_name = \"benign\"\n",
    "for img in listdir(\"original_data/test/{}/\".format(class_name)):\n",
    "    img_path = \"original_data/test/{}/{}\".format(class_name, img)\n",
    "    pred = make_predict(img_path)\n",
    "    \n",
    "    y_true.append(class_name)\n",
    "    y_pred.append(pred)\n",
    "    \n",
    "class_name = \"malignant\"\n",
    "for img in listdir(\"original_data/test/{}/\".format(class_name)):\n",
    "    img_path = \"original_data/test/{}/{}\".format(class_name, img)\n",
    "    pred = make_predict(img_path)\n",
    "    \n",
    "    y_true.append(class_name)\n",
    "    y_pred.append(pred)\n",
    "    "
   ]
  },
  {
   "cell_type": "code",
   "execution_count": null,
   "metadata": {},
   "outputs": [],
   "source": []
  },
  {
   "cell_type": "code",
   "execution_count": 29,
   "metadata": {},
   "outputs": [
    {
     "data": {
      "text/plain": [
       "True"
      ]
     },
     "execution_count": 29,
     "metadata": {},
     "output_type": "execute_result"
    }
   ],
   "source": [
    "len(y_true) == len(y_pred)"
   ]
  },
  {
   "cell_type": "code",
   "execution_count": 30,
   "metadata": {},
   "outputs": [],
   "source": [
    "from sklearn.metrics import confusion_matrix\n",
    "cm = confusion_matrix(y_true, y_pred, labels=[\"benign\", \"malignant\"])"
   ]
  },
  {
   "cell_type": "code",
   "execution_count": 31,
   "metadata": {},
   "outputs": [],
   "source": [
    "import pandas as pd\n",
    "df_cm = pd.DataFrame(cm, [\"benign\", \"malignant\"], [\"benign\", \"malignant\"])"
   ]
  },
  {
   "cell_type": "code",
   "execution_count": 32,
   "metadata": {},
   "outputs": [],
   "source": [
    "import seaborn as sn"
   ]
  },
  {
   "cell_type": "code",
   "execution_count": 41,
   "metadata": {},
   "outputs": [
    {
     "data": {
      "image/png": "[encoded data removed]",
      "text/plain": [
       "<Figure size 432x288 with 2 Axes>"
      ]
     },
     "metadata": {},
     "output_type": "display_data"
    }
   ],
   "source": [
    "sn.set(font_scale=1.4)#for label size\n",
    "sn.heatmap(df_cm, annot=True,annot_kws={\"size\": 16}).set_title(\"Confusion matrix baseline model\")# font size\n",
    "plt.show()"
   ]
  },
  {
   "cell_type": "code",
   "execution_count": 46,
   "metadata": {},
   "outputs": [
    {
     "data": {
      "text/plain": [
       "0.0851063829787234"
      ]
     },
     "execution_count": 46,
     "metadata": {},
     "output_type": "execute_result"
    }
   ],
   "source": [
    "from sklearn.metrics import f1_score\n",
    "y_true_01 = [class_dic[p] for p in y_true]\n",
    "y_pred_01 = [class_dic[p] for p in y_pred]\n",
    "f1_score(y_true_01, y_pred_01)"
   ]
  },
  {
   "cell_type": "code",
   "execution_count": null,
   "metadata": {},
   "outputs": [],
   "source": []
  },
  {
   "cell_type": "code",
   "execution_count": null,
   "metadata": {},
   "outputs": [],
   "source": []
  },
  {
   "cell_type": "code",
   "execution_count": null,
   "metadata": {},
   "outputs": [],
   "source": []
  },
  {
   "cell_type": "code",
   "execution_count": null,
   "metadata": {},
   "outputs": [],
   "source": []
  },
  {
   "cell_type": "code",
   "execution_count": null,
   "metadata": {},
   "outputs": [],
   "source": []
  },
  {
   "cell_type": "code",
   "execution_count": null,
   "metadata": {},
   "outputs": [],
   "source": []
  }
 ],
 "metadata": {
  "kernelspec": {
   "display_name": "Python 3",
   "language": "python",
   "name": "python3"
  },
  "language_info": {
   "codemirror_mode": {
    "name": "ipython",
    "version": 3
   },
   "file_extension": ".py",
   "mimetype": "text/x-python",
   "name": "python",
   "nbconvert_exporter": "python",
   "pygments_lexer": "ipython3",
   "version": "3.6.6"
  }
 },
 "nbformat": 4,
 "nbformat_minor": 2
}
