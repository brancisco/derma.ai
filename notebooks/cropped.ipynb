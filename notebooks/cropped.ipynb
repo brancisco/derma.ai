{
 "cells": [
  {
   "cell_type": "code",
   "execution_count": 1,
   "metadata": {},
   "outputs": [
    {
     "name": "stderr",
     "output_type": "stream",
     "text": [
      "Using TensorFlow backend.\n"
     ]
    }
   ],
   "source": [
    "from keras.preprocessing.image import ImageDataGenerator\n",
    "from keras.applications.inception_v3 import preprocess_input"
   ]
  },
  {
   "cell_type": "code",
   "execution_count": 2,
   "metadata": {},
   "outputs": [],
   "source": [
    "train_path = \"masked_data/training\"\n",
    "validation_path = \"original_data/validation\"\n",
    "test_path = \"original_data/test\""
   ]
  },
  {
   "cell_type": "code",
   "execution_count": 3,
   "metadata": {},
   "outputs": [],
   "source": [
    "dimentions = (299, 299)\n",
    "batch_size = 64\n",
    "\n",
    "n_class = 2"
   ]
  },
  {
   "cell_type": "code",
   "execution_count": 4,
   "metadata": {},
   "outputs": [],
   "source": [
    "train_datagen  = ImageDataGenerator(\n",
    "    preprocessing_function=preprocess_input,\n",
    ")"
   ]
  },
  {
   "cell_type": "code",
   "execution_count": 5,
   "metadata": {},
   "outputs": [],
   "source": [
    "valid_datagen  = ImageDataGenerator(\n",
    "    preprocessing_function=preprocess_input,\n",
    ")"
   ]
  },
  {
   "cell_type": "code",
   "execution_count": 6,
   "metadata": {},
   "outputs": [
    {
     "name": "stdout",
     "output_type": "stream",
     "text": [
      "Found 710 images belonging to 2 classes.\n"
     ]
    }
   ],
   "source": [
    "train_generator = train_datagen.flow_from_directory(\n",
    "    train_path, \n",
    "    target_size=dimentions,\n",
    "    batch_size=batch_size\n",
    ")"
   ]
  },
  {
   "cell_type": "code",
   "execution_count": 7,
   "metadata": {},
   "outputs": [
    {
     "name": "stdout",
     "output_type": "stream",
     "text": [
      "Found 239 images belonging to 2 classes.\n"
     ]
    }
   ],
   "source": [
    "validation_generator = valid_datagen.flow_from_directory(\n",
    "    validation_path, \n",
    "    target_size=dimentions,\n",
    "    batch_size=batch_size\n",
    ")"
   ]
  },
  {
   "cell_type": "code",
   "execution_count": 8,
   "metadata": {},
   "outputs": [
    {
     "name": "stdout",
     "output_type": "stream",
     "text": [
      "Found 239 images belonging to 2 classes.\n"
     ]
    }
   ],
   "source": [
    "test_generator = valid_datagen.flow_from_directory(\n",
    "    test_path, \n",
    "    target_size=dimentions,\n",
    "    batch_size=batch_size\n",
    ")"
   ]
  },
  {
   "cell_type": "code",
   "execution_count": null,
   "metadata": {},
   "outputs": [],
   "source": []
  },
  {
   "cell_type": "code",
   "execution_count": 9,
   "metadata": {},
   "outputs": [],
   "source": [
    "from keras.applications.inception_v3 import InceptionV3\n",
    "from keras.layers import GlobalAveragePooling2D, Dropout, Dense, Input\n",
    "from keras.models import Model\n",
    "\n",
    "base_model = InceptionV3(\n",
    "    weights='imagenet', \n",
    "    include_top=False,\n",
    ")\n",
    "\n",
    "x = base_model.output \n",
    "x = GlobalAveragePooling2D()(x) \n",
    "x = Dense(1024, activation='relu')(x) \n",
    "predictions = Dense(n_class, activation='softmax')(x)    \n",
    "model = Model(inputs=base_model.input, outputs=predictions)"
   ]
  },
  {
   "cell_type": "code",
   "execution_count": null,
   "metadata": {},
   "outputs": [],
   "source": []
  },
  {
   "cell_type": "code",
   "execution_count": 10,
   "metadata": {},
   "outputs": [],
   "source": [
    "from keras import metrics\n",
    "\n",
    "model.compile(\n",
    "    optimizer='adam',\n",
    "    loss='categorical_crossentropy', \n",
    "    metrics=['accuracy']\n",
    ")"
   ]
  },
  {
   "cell_type": "code",
   "execution_count": 11,
   "metadata": {},
   "outputs": [],
   "source": [
    "from keras.callbacks import ModelCheckpoint  \n",
    "\n",
    "# !mkdir saved_models\n",
    "\n",
    "model_file = 'saved_models/cropped_weights.best.InceptionV3.hdf5'\n",
    "checkpointer = ModelCheckpoint(filepath=model_file, \n",
    "                               verbose=1, save_best_only=True)"
   ]
  },
  {
   "cell_type": "code",
   "execution_count": 12,
   "metadata": {},
   "outputs": [],
   "source": [
    "epochs = 10"
   ]
  },
  {
   "cell_type": "code",
   "execution_count": 13,
   "metadata": {},
   "outputs": [
    {
     "name": "stdout",
     "output_type": "stream",
     "text": [
      "Epoch 1/10\n",
      "11/11 [==============================] - 56s 5s/step - loss: 0.4063 - acc: 0.8409 - val_loss: 8.1865 - val_acc: 0.3385\n",
      "\n",
      "Epoch 00001: val_loss improved from inf to 8.18646, saving model to saved_models/cropped_weights.best.InceptionV3.hdf5\n",
      "Epoch 2/10\n",
      "11/11 [==============================] - 27s 2s/step - loss: 0.2062 - acc: 0.9259 - val_loss: 4.7747 - val_acc: 0.5771\n",
      "\n",
      "Epoch 00002: val_loss improved from 8.18646 to 4.77473, saving model to saved_models/cropped_weights.best.InceptionV3.hdf5\n",
      "Epoch 3/10\n",
      "11/11 [==============================] - 23s 2s/step - loss: 0.1434 - acc: 0.9244 - val_loss: 7.4566 - val_acc: 0.3657\n",
      "\n",
      "Epoch 00003: val_loss did not improve from 4.77473\n",
      "Epoch 4/10\n",
      "11/11 [==============================] - 23s 2s/step - loss: 0.1106 - acc: 0.9571 - val_loss: 2.8673 - val_acc: 0.8171\n",
      "\n",
      "Epoch 00004: val_loss improved from 4.77473 to 2.86730, saving model to saved_models/cropped_weights.best.InceptionV3.hdf5\n",
      "Epoch 5/10\n",
      "11/11 [==============================] - 23s 2s/step - loss: 0.0824 - acc: 0.9642 - val_loss: 3.1297 - val_acc: 0.2500\n",
      "\n",
      "Epoch 00005: val_loss did not improve from 2.86730\n",
      "Epoch 6/10\n",
      "11/11 [==============================] - 27s 2s/step - loss: 0.0624 - acc: 0.9857 - val_loss: 10.4582 - val_acc: 0.1600\n",
      "\n",
      "Epoch 00006: val_loss did not improve from 2.86730\n",
      "Epoch 7/10\n",
      "11/11 [==============================] - 30s 3s/step - loss: 0.0256 - acc: 0.9914 - val_loss: 9.8142 - val_acc: 0.2571\n",
      "\n",
      "Epoch 00007: val_loss did not improve from 2.86730\n",
      "Epoch 8/10\n",
      "11/11 [==============================] - 33s 3s/step - loss: 0.1171 - acc: 0.9574 - val_loss: 13.1190 - val_acc: 0.1771\n",
      "\n",
      "Epoch 00008: val_loss did not improve from 2.86730\n",
      "Epoch 9/10\n",
      "11/11 [==============================] - 34s 3s/step - loss: 0.2295 - acc: 0.9402 - val_loss: 2.3506 - val_acc: 0.8542\n",
      "\n",
      "Epoch 00009: val_loss improved from 2.86730 to 2.35056, saving model to saved_models/cropped_weights.best.InceptionV3.hdf5\n",
      "Epoch 10/10\n",
      "11/11 [==============================] - 31s 3s/step - loss: 0.1658 - acc: 0.9442 - val_loss: 4.2525 - val_acc: 0.3086\n",
      "\n",
      "Epoch 00010: val_loss did not improve from 2.35056\n"
     ]
    }
   ],
   "source": [
    "train_history = model.fit_generator(train_generator, \n",
    "                                    validation_data=validation_generator, \n",
    "                                    epochs=epochs, \n",
    "                                    callbacks=[checkpointer],\n",
    "                                    steps_per_epoch=train_generator.samples // batch_size, \n",
    "                                    validation_steps=validation_generator.samples // batch_size\n",
    "                                   )"
   ]
  },
  {
   "cell_type": "code",
   "execution_count": null,
   "metadata": {},
   "outputs": [],
   "source": []
  },
  {
   "cell_type": "code",
   "execution_count": 14,
   "metadata": {},
   "outputs": [
    {
     "data": {
      "text/plain": [
       "{'val_loss': [8.186458110809326,\n",
       "  4.774726363590785,\n",
       "  7.456576886858259,\n",
       "  2.867302348273141,\n",
       "  3.1297077337900796,\n",
       "  10.458228073120118,\n",
       "  9.814167894635881,\n",
       "  13.118977176121303,\n",
       "  2.350558042526245,\n",
       "  4.252505828312465],\n",
       " 'val_acc': [0.3385416666666667,\n",
       "  0.5771428554398673,\n",
       "  0.36571428213800705,\n",
       "  0.8171428619112288,\n",
       "  0.25,\n",
       "  0.15999999923365457,\n",
       "  0.2571428576537541,\n",
       "  0.1771428577389036,\n",
       "  0.8541666666666666,\n",
       "  0.3085714270387377],\n",
       " 'loss': [0.40628046881068836,\n",
       "  0.2081605461267495,\n",
       "  0.13607072834813558,\n",
       "  0.11914620097386348,\n",
       "  0.08881764409951173,\n",
       "  0.06373857516483995,\n",
       "  0.02764275832788053,\n",
       "  0.08368387329320051,\n",
       "  0.16302304481943325,\n",
       "  0.17420502425670253],\n",
       " 'acc': [0.8409090909090909,\n",
       "  0.9334365323232054,\n",
       "  0.9318885447071064,\n",
       "  0.9535603715170279,\n",
       "  0.9613003095975232,\n",
       "  0.9845201238390093,\n",
       "  0.9907120743034056,\n",
       "  0.967492259877385,\n",
       "  0.9489164084841961,\n",
       "  0.9396284829721362]}"
      ]
     },
     "execution_count": 14,
     "metadata": {},
     "output_type": "execute_result"
    }
   ],
   "source": [
    "train_history.history"
   ]
  },
  {
   "cell_type": "code",
   "execution_count": 15,
   "metadata": {},
   "outputs": [],
   "source": [
    "import matplotlib.pyplot as plt"
   ]
  },
  {
   "cell_type": "code",
   "execution_count": 16,
   "metadata": {},
   "outputs": [
    {
     "data": {
      "image/png": "[encoded data removed]",
      "text/plain": [
       "<Figure size 432x288 with 1 Axes>"
      ]
     },
     "metadata": {
      "needs_background": "light"
     },
     "output_type": "display_data"
    }
   ],
   "source": [
    "plt.plot(train_history.history['acc'])\n",
    "plt.plot(train_history.history['val_acc'])\n",
    "plt.title('model accuracy')\n",
    "plt.ylabel('accuracy')\n",
    "plt.xlabel('epoch')\n",
    "plt.legend(['train', 'validation'])\n",
    "plt.show()"
   ]
  },
  {
   "cell_type": "code",
   "execution_count": 17,
   "metadata": {},
   "outputs": [
    {
     "data": {
      "image/png": "[encoded data removed]",
      "text/plain": [
       "<Figure size 432x288 with 1 Axes>"
      ]
     },
     "metadata": {
      "needs_background": "light"
     },
     "output_type": "display_data"
    }
   ],
   "source": [
    "plt.plot(train_history.history['loss'])\n",
    "plt.plot(train_history.history['val_acc'])\n",
    "plt.title('model loss')\n",
    "plt.ylabel('loss')\n",
    "plt.xlabel('epoch')\n",
    "plt.legend(['train', 'validation'])\n",
    "plt.show()"
   ]
  },
  {
   "cell_type": "code",
   "execution_count": 18,
   "metadata": {},
   "outputs": [],
   "source": [
    "model.load_weights(model_file)\n",
    "tesr_result = model.evaluate_generator(test_generator, steps=10)"
   ]
  },
  {
   "cell_type": "code",
   "execution_count": 19,
   "metadata": {},
   "outputs": [
    {
     "data": {
      "text/plain": [
       "[3.0146148133986066, 0.8102310266431803]"
      ]
     },
     "execution_count": 19,
     "metadata": {},
     "output_type": "execute_result"
    }
   ],
   "source": [
    "tesr_result"
   ]
  },
  {
   "cell_type": "code",
   "execution_count": 20,
   "metadata": {},
   "outputs": [],
   "source": [
    "predict = model.predict_generator(test_generator,steps = 10)"
   ]
  },
  {
   "cell_type": "code",
   "execution_count": 21,
   "metadata": {},
   "outputs": [],
   "source": [
    "import cv2\n",
    "import numpy as np\n",
    "\n",
    "\n",
    "from keras.preprocessing import image\n",
    "# img = cv2.imread(path_to_one_file)\n",
    "# img = np.array([img]).reshape((1, 3, 299, 299))\n",
    "\n",
    "def to_tensor(img_path): \n",
    "    img = image.load_img(img_path, target_size=(299, 299))\n",
    "    img_tensor = image.img_to_array(img)                    # (height, width, channels)\n",
    "    img_tensor = np.expand_dims(img_tensor, axis=0)         # (1, height, width, channels), add a dimension because the model expects this shape: (batch_size, height, width, channels)\n",
    "    img_tensor /= 255. \n",
    "    \n",
    "    return img_tensor"
   ]
  },
  {
   "cell_type": "code",
   "execution_count": 22,
   "metadata": {},
   "outputs": [],
   "source": [
    "def make_predict(img_path): \n",
    "    class_dic = {}\n",
    "    for k, v in test_generator.class_indices.items():\n",
    "        class_dic[v] = k\n",
    "    \n",
    "    \n",
    "    y_prob = model.predict(to_tensor(img_path))\n",
    "    y_classes = y_prob.argmax(axis=-1)\n",
    "    return class_dic[y_classes[0]]"
   ]
  },
  {
   "cell_type": "code",
   "execution_count": 23,
   "metadata": {},
   "outputs": [
    {
     "data": {
      "text/plain": [
       "'benign'"
      ]
     },
     "execution_count": 23,
     "metadata": {},
     "output_type": "execute_result"
    }
   ],
   "source": [
    "img_path = \"original_data/test/benign/ISIC_0004472.jpg\"\n",
    "make_predict(img_path)"
   ]
  },
  {
   "cell_type": "code",
   "execution_count": 24,
   "metadata": {},
   "outputs": [
    {
     "name": "stdout",
     "output_type": "stream",
     "text": [
      "{'benign': 0, 'malignant': 1}\n",
      "{0: 'benign', 1: 'malignant'}\n"
     ]
    }
   ],
   "source": [
    "class_dic = dict(test_generator.class_indices)\n",
    "print(class_dic)\n",
    "\n",
    "one_hot = {}\n",
    "for k, v in test_generator.class_indices.items():\n",
    "    one_hot[v] = k\n",
    "print(one_hot)"
   ]
  },
  {
   "cell_type": "code",
   "execution_count": 25,
   "metadata": {},
   "outputs": [],
   "source": [
    "from os import listdir \n",
    "\n",
    "y_true = [] \n",
    "y_pred = []\n",
    "\n",
    "class_name = \"benign\"\n",
    "for img in listdir(\"original_data/test/{}/\".format(class_name)):\n",
    "    img_path = \"original_data/test/{}/{}\".format(class_name, img)\n",
    "    pred = make_predict(img_path)\n",
    "    \n",
    "    y_true.append(class_name)\n",
    "    y_pred.append(pred)\n",
    "    \n",
    "class_name = \"malignant\"\n",
    "for img in listdir(\"original_data/test/{}/\".format(class_name)):\n",
    "    img_path = \"original_data/test/{}/{}\".format(class_name, img)\n",
    "    pred = make_predict(img_path)\n",
    "    \n",
    "    y_true.append(class_name)\n",
    "    y_pred.append(pred)\n",
    "    "
   ]
  },
  {
   "cell_type": "code",
   "execution_count": null,
   "metadata": {},
   "outputs": [],
   "source": []
  },
  {
   "cell_type": "code",
   "execution_count": 26,
   "metadata": {},
   "outputs": [
    {
     "data": {
      "text/plain": [
       "True"
      ]
     },
     "execution_count": 26,
     "metadata": {},
     "output_type": "execute_result"
    }
   ],
   "source": [
    "len(y_true) == len(y_pred)"
   ]
  },
  {
   "cell_type": "code",
   "execution_count": 27,
   "metadata": {},
   "outputs": [],
   "source": [
    "from sklearn.metrics import confusion_matrix\n",
    "cm = confusion_matrix(y_true, y_pred, labels=[\"benign\", \"malignant\"])"
   ]
  },
  {
   "cell_type": "code",
   "execution_count": 28,
   "metadata": {},
   "outputs": [],
   "source": [
    "import pandas as pd\n",
    "df_cm = pd.DataFrame(cm, [\"benign\", \"malignant\"], [\"benign\", \"malignant\"])"
   ]
  },
  {
   "cell_type": "code",
   "execution_count": 29,
   "metadata": {},
   "outputs": [],
   "source": [
    "import seaborn as sn"
   ]
  },
  {
   "cell_type": "code",
   "execution_count": 30,
   "metadata": {},
   "outputs": [
    {
     "data": {
      "image/png": "[encoded data removed]",
      "text/plain": [
       "<Figure size 432x288 with 2 Axes>"
      ]
     },
     "metadata": {},
     "output_type": "display_data"
    }
   ],
   "source": [
    "sn.set(font_scale=1.4)#for label size\n",
    "sn.heatmap(df_cm, annot=True,annot_kws={\"size\": 16}).set_title(\"Confusion matrix trained with cropped images\")# font size\n",
    "plt.show()"
   ]
  },
  {
   "cell_type": "code",
   "execution_count": 31,
   "metadata": {},
   "outputs": [
    {
     "data": {
      "text/plain": [
       "0.1568627450980392"
      ]
     },
     "execution_count": 31,
     "metadata": {},
     "output_type": "execute_result"
    }
   ],
   "source": [
    "from sklearn.metrics import f1_score\n",
    "y_true_01 = [class_dic[p] for p in y_true]\n",
    "y_pred_01 = [class_dic[p] for p in y_pred]\n",
    "f1_score(y_true_01, y_pred_01)"
   ]
  },
  {
   "cell_type": "code",
   "execution_count": 32,
   "metadata": {},
   "outputs": [
    {
     "data": {
      "text/plain": [
       "0.09523809523809523"
      ]
     },
     "execution_count": 32,
     "metadata": {},
     "output_type": "execute_result"
    }
   ],
   "source": [
    "from sklearn.metrics import recall_score\n",
    "recall_score(y_true_01, y_pred_01) "
   ]
  },
  {
   "cell_type": "code",
   "execution_count": 33,
   "metadata": {},
   "outputs": [
    {
     "data": {
      "text/plain": [
       "0.4444444444444444"
      ]
     },
     "execution_count": 33,
     "metadata": {},
     "output_type": "execute_result"
    }
   ],
   "source": [
    "from sklearn.metrics import precision_score\n",
    "precision_score(y_true_01, y_pred_01) "
   ]
  },
  {
   "cell_type": "code",
   "execution_count": 36,
   "metadata": {},
   "outputs": [],
   "source": [
    "# y_pred_01"
   ]
  },
  {
   "cell_type": "code",
   "execution_count": null,
   "metadata": {},
   "outputs": [],
   "source": []
  },
  {
   "cell_type": "code",
   "execution_count": null,
   "metadata": {},
   "outputs": [],
   "source": []
  },
  {
   "cell_type": "code",
   "execution_count": null,
   "metadata": {},
   "outputs": [],
   "source": []
  }
 ],
 "metadata": {
  "kernelspec": {
   "display_name": "Python 3",
   "language": "python",
   "name": "python3"
  },
  "language_info": {
   "codemirror_mode": {
    "name": "ipython",
    "version": 3
   },
   "file_extension": ".py",
   "mimetype": "text/x-python",
   "name": "python",
   "nbconvert_exporter": "python",
   "pygments_lexer": "ipython3",
   "version": "3.6.6"
  }
 },
 "nbformat": 4,
 "nbformat_minor": 2
}
