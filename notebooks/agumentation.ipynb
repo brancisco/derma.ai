{
 "cells": [
  {
   "cell_type": "code",
   "execution_count": 1,
   "metadata": {},
   "outputs": [
    {
     "name": "stderr",
     "output_type": "stream",
     "text": [
      "Using TensorFlow backend.\n"
     ]
    }
   ],
   "source": [
    "from keras.preprocessing.image import ImageDataGenerator\n",
    "from keras.applications.inception_v3 import preprocess_input"
   ]
  },
  {
   "cell_type": "code",
   "execution_count": 2,
   "metadata": {},
   "outputs": [],
   "source": [
    "# !ls "
   ]
  },
  {
   "cell_type": "code",
   "execution_count": 3,
   "metadata": {},
   "outputs": [],
   "source": [
    "train_path = \"original_data/training\"\n",
    "validation_path = \"original_data/validation\"\n",
    "test_path = \"original_data/test\""
   ]
  },
  {
   "cell_type": "code",
   "execution_count": 4,
   "metadata": {},
   "outputs": [],
   "source": [
    "dimentions = (299, 299)\n",
    "batch_size = 64\n",
    "\n",
    "n_class = 2"
   ]
  },
  {
   "cell_type": "code",
   "execution_count": 5,
   "metadata": {},
   "outputs": [],
   "source": [
    "train_datagen  = ImageDataGenerator(\n",
    "    preprocessing_function=preprocess_input,\n",
    "    rotation_range=40,\n",
    "    width_shift_range=0.2,\n",
    "    height_shift_range=0.2,\n",
    "    shear_range=0.2,\n",
    "    zoom_range=0.2,\n",
    "    horizontal_flip=True,\n",
    "    fill_mode='reflect'\n",
    ")"
   ]
  },
  {
   "cell_type": "code",
   "execution_count": 6,
   "metadata": {},
   "outputs": [],
   "source": [
    "valid_datagen  = ImageDataGenerator(\n",
    "    preprocessing_function=preprocess_input,\n",
    "    rotation_range=40,\n",
    "    width_shift_range=0.2,\n",
    "    height_shift_range=0.2,\n",
    "    shear_range=0.2,\n",
    "    zoom_range=0.2,\n",
    "    horizontal_flip=True,\n",
    "    fill_mode='reflect'\n",
    ")"
   ]
  },
  {
   "cell_type": "code",
   "execution_count": 7,
   "metadata": {},
   "outputs": [],
   "source": [
    "test_datagen  = ImageDataGenerator(\n",
    "    preprocessing_function=preprocess_input,\n",
    ")"
   ]
  },
  {
   "cell_type": "code",
   "execution_count": 8,
   "metadata": {},
   "outputs": [
    {
     "name": "stdout",
     "output_type": "stream",
     "text": [
      "Found 717 images belonging to 2 classes.\n"
     ]
    }
   ],
   "source": [
    "train_generator = train_datagen.flow_from_directory(\n",
    "    train_path, \n",
    "    target_size=dimentions,\n",
    "    batch_size=batch_size\n",
    ")"
   ]
  },
  {
   "cell_type": "code",
   "execution_count": 9,
   "metadata": {},
   "outputs": [
    {
     "name": "stdout",
     "output_type": "stream",
     "text": [
      "Found 239 images belonging to 2 classes.\n"
     ]
    }
   ],
   "source": [
    "validation_generator = valid_datagen.flow_from_directory(\n",
    "    validation_path, \n",
    "    target_size=dimentions,\n",
    "    batch_size=batch_size\n",
    ")"
   ]
  },
  {
   "cell_type": "code",
   "execution_count": 10,
   "metadata": {},
   "outputs": [
    {
     "name": "stdout",
     "output_type": "stream",
     "text": [
      "Found 239 images belonging to 2 classes.\n"
     ]
    }
   ],
   "source": [
    "test_generator = test_datagen.flow_from_directory(\n",
    "    test_path, \n",
    "    target_size=dimentions,\n",
    "    batch_size=batch_size\n",
    ")"
   ]
  },
  {
   "cell_type": "code",
   "execution_count": null,
   "metadata": {},
   "outputs": [],
   "source": []
  },
  {
   "cell_type": "code",
   "execution_count": 12,
   "metadata": {},
   "outputs": [],
   "source": [
    "from keras.applications.inception_v3 import InceptionV3\n",
    "from keras.layers import GlobalAveragePooling2D, Dropout, Dense, Input\n",
    "from keras.models import Model\n",
    "\n",
    "base_model = InceptionV3(\n",
    "    weights='imagenet', \n",
    "    include_top=False,\n",
    ")\n",
    "\n",
    "x = base_model.output \n",
    "x = GlobalAveragePooling2D()(x) \n",
    "x = Dense(1024, activation='relu')(x) \n",
    "predictions = Dense(n_class, activation='softmax')(x)    \n",
    "model = Model(inputs=base_model.input, outputs=predictions)"
   ]
  },
  {
   "cell_type": "code",
   "execution_count": null,
   "metadata": {},
   "outputs": [],
   "source": []
  },
  {
   "cell_type": "code",
   "execution_count": 13,
   "metadata": {},
   "outputs": [],
   "source": [
    "from keras import metrics\n",
    "\n",
    "model.compile(\n",
    "    optimizer='adam',\n",
    "    loss='categorical_crossentropy', \n",
    "    metrics=['accuracy']\n",
    ")"
   ]
  },
  {
   "cell_type": "code",
   "execution_count": 14,
   "metadata": {},
   "outputs": [],
   "source": [
    "from keras.callbacks import ModelCheckpoint  \n",
    "\n",
    "# !mkdir saved_models\n",
    "\n",
    "model_file = 'saved_models/agument_weights.best.InceptionV3.hdf5'\n",
    "checkpointer = ModelCheckpoint(filepath=model_file, \n",
    "                               verbose=1, save_best_only=True)"
   ]
  },
  {
   "cell_type": "code",
   "execution_count": 15,
   "metadata": {},
   "outputs": [],
   "source": [
    "epochs = 10"
   ]
  },
  {
   "cell_type": "code",
   "execution_count": 16,
   "metadata": {},
   "outputs": [
    {
     "name": "stdout",
     "output_type": "stream",
     "text": [
      "Epoch 1/10\n",
      "11/11 [==============================] - 155s 14s/step - loss: 0.4420 - acc: 0.8594 - val_loss: 0.1899 - val_acc: 0.9427\n",
      "\n",
      "Epoch 00001: val_loss improved from inf to 0.18987, saving model to saved_models/agument_weights.best.InceptionV3.hdf5\n",
      "Epoch 2/10\n",
      "11/11 [==============================] - 59s 5s/step - loss: 0.1371 - acc: 0.9391 - val_loss: 0.3252 - val_acc: 0.9029\n",
      "\n",
      "Epoch 00002: val_loss did not improve from 0.18987\n",
      "Epoch 3/10\n",
      "11/11 [==============================] - 104s 9s/step - loss: 0.1080 - acc: 0.9520 - val_loss: 3.4231 - val_acc: 0.4571\n",
      "\n",
      "Epoch 00003: val_loss did not improve from 0.18987\n",
      "Epoch 4/10\n",
      "11/11 [==============================] - 111s 10s/step - loss: 0.1052 - acc: 0.9477 - val_loss: 0.2911 - val_acc: 0.8743\n",
      "\n",
      "Epoch 00004: val_loss did not improve from 0.18987\n",
      "Epoch 5/10\n",
      "11/11 [==============================] - 111s 10s/step - loss: 0.1139 - acc: 0.9628 - val_loss: 1.6853 - val_acc: 0.6979\n",
      "\n",
      "Epoch 00005: val_loss did not improve from 0.18987\n",
      "Epoch 6/10\n",
      "11/11 [==============================] - 109s 10s/step - loss: 0.1163 - acc: 0.9598 - val_loss: 0.8522 - val_acc: 0.8000\n",
      "\n",
      "Epoch 00006: val_loss did not improve from 0.18987\n",
      "Epoch 7/10\n",
      "11/11 [==============================] - 110s 10s/step - loss: 0.0979 - acc: 0.9491 - val_loss: 2.7535 - val_acc: 0.4457\n",
      "\n",
      "Epoch 00007: val_loss did not improve from 0.18987\n",
      "Epoch 8/10\n",
      "11/11 [==============================] - 109s 10s/step - loss: 0.1409 - acc: 0.9434 - val_loss: 0.1871 - val_acc: 0.8971\n",
      "\n",
      "Epoch 00008: val_loss improved from 0.18987 to 0.18713, saving model to saved_models/agument_weights.best.InceptionV3.hdf5\n",
      "Epoch 9/10\n",
      "11/11 [==============================] - 109s 10s/step - loss: 0.0739 - acc: 0.9657 - val_loss: 0.3067 - val_acc: 0.9115\n",
      "\n",
      "Epoch 00009: val_loss did not improve from 0.18713\n",
      "Epoch 10/10\n",
      "11/11 [==============================] - 107s 10s/step - loss: 0.1364 - acc: 0.9463 - val_loss: 3.2101 - val_acc: 0.7486\n",
      "\n",
      "Epoch 00010: val_loss did not improve from 0.18713\n"
     ]
    }
   ],
   "source": [
    "train_history = model.fit_generator(train_generator, \n",
    "                                    validation_data=validation_generator, \n",
    "                                    epochs=epochs, \n",
    "                                    callbacks=[checkpointer],\n",
    "                                    steps_per_epoch=train_generator.samples // batch_size, \n",
    "                                    validation_steps=validation_generator.samples // batch_size\n",
    "                                   )"
   ]
  },
  {
   "cell_type": "code",
   "execution_count": null,
   "metadata": {},
   "outputs": [],
   "source": []
  },
  {
   "cell_type": "code",
   "execution_count": 17,
   "metadata": {},
   "outputs": [
    {
     "data": {
      "text/plain": [
       "{'val_loss': [0.18987098832925162,\n",
       "  0.3251838976996286,\n",
       "  3.4231065014430455,\n",
       "  0.2910911714179175,\n",
       "  1.6852703889211018,\n",
       "  0.8521536266803742,\n",
       "  2.753476799556187,\n",
       "  0.18712752623217446,\n",
       "  0.3066623906294505,\n",
       "  3.210052168709891],\n",
       " 'val_acc': [0.9427083333333334,\n",
       "  0.9028571469443185,\n",
       "  0.4571428595270429,\n",
       "  0.8742857183728899,\n",
       "  0.6979166666666666,\n",
       "  0.8000000034059797,\n",
       "  0.44571428877966746,\n",
       "  0.897142859186445,\n",
       "  0.9114583333333334,\n",
       "  0.7485714221000671],\n",
       " 'loss': [0.4419545741243796,\n",
       "  0.13467427647771002,\n",
       "  0.10602951079470092,\n",
       "  0.10380603836287401,\n",
       "  0.11791110888214791,\n",
       "  0.09511491752145484,\n",
       "  0.09780564346275139,\n",
       "  0.14039318799789977,\n",
       "  0.07871628779301827,\n",
       "  0.1172281437957086],\n",
       " 'acc': [0.859375,\n",
       "  0.9402756509335446,\n",
       "  0.9540581930468678,\n",
       "  0.9494640123424267,\n",
       "  0.9601837672281777,\n",
       "  0.9678407352514691,\n",
       "  0.9509954059105737,\n",
       "  0.9448698316379857,\n",
       "  0.9632465543644717,\n",
       "  0.9479326187742797]}"
      ]
     },
     "execution_count": 17,
     "metadata": {},
     "output_type": "execute_result"
    }
   ],
   "source": [
    "train_history.history"
   ]
  },
  {
   "cell_type": "code",
   "execution_count": 18,
   "metadata": {},
   "outputs": [],
   "source": [
    "import matplotlib.pyplot as plt"
   ]
  },
  {
   "cell_type": "code",
   "execution_count": 19,
   "metadata": {},
   "outputs": [
    {
     "data": {
      "image/png": "[encoded data removed]",
      "text/plain": [
       "<Figure size 432x288 with 1 Axes>"
      ]
     },
     "metadata": {
      "needs_background": "light"
     },
     "output_type": "display_data"
    }
   ],
   "source": [
    "plt.plot(train_history.history['acc'])\n",
    "plt.plot(train_history.history['val_acc'])\n",
    "plt.title('model accuracy')\n",
    "plt.ylabel('accuracy')\n",
    "plt.xlabel('epoch')\n",
    "plt.legend(['train', 'validation'])\n",
    "plt.show()"
   ]
  },
  {
   "cell_type": "code",
   "execution_count": 20,
   "metadata": {},
   "outputs": [
    {
     "data": {
      "image/png": "[encoded data removed]",
      "text/plain": [
       "<Figure size 432x288 with 1 Axes>"
      ]
     },
     "metadata": {
      "needs_background": "light"
     },
     "output_type": "display_data"
    }
   ],
   "source": [
    "plt.plot(train_history.history['loss'])\n",
    "plt.plot(train_history.history['val_acc'])\n",
    "plt.title('model loss')\n",
    "plt.ylabel('loss')\n",
    "plt.xlabel('epoch')\n",
    "plt.legend(['train', 'validation'])\n",
    "plt.show()"
   ]
  },
  {
   "cell_type": "code",
   "execution_count": 21,
   "metadata": {},
   "outputs": [],
   "source": [
    "model.load_weights(model_file)\n",
    "tesr_result = model.evaluate_generator(test_generator, steps=10)"
   ]
  },
  {
   "cell_type": "code",
   "execution_count": 22,
   "metadata": {},
   "outputs": [
    {
     "data": {
      "text/plain": [
       "[0.38100816764355494, 0.8333333356939133]"
      ]
     },
     "execution_count": 22,
     "metadata": {},
     "output_type": "execute_result"
    }
   ],
   "source": [
    "tesr_result"
   ]
  },
  {
   "cell_type": "code",
   "execution_count": 23,
   "metadata": {},
   "outputs": [],
   "source": [
    "predict = model.predict_generator(test_generator,steps = 10)"
   ]
  },
  {
   "cell_type": "code",
   "execution_count": 24,
   "metadata": {},
   "outputs": [],
   "source": [
    "import cv2\n",
    "import numpy as np\n",
    "\n",
    "\n",
    "from keras.preprocessing import image\n",
    "# img = cv2.imread(path_to_one_file)\n",
    "# img = np.array([img]).reshape((1, 3, 299, 299))\n",
    "\n",
    "def to_tensor(img_path): \n",
    "    img = image.load_img(img_path, target_size=(299, 299))\n",
    "    img_tensor = image.img_to_array(img)                    # (height, width, channels)\n",
    "    img_tensor = np.expand_dims(img_tensor, axis=0)         # (1, height, width, channels), add a dimension because the model expects this shape: (batch_size, height, width, channels)\n",
    "    img_tensor /= 255. \n",
    "    \n",
    "    return img_tensor"
   ]
  },
  {
   "cell_type": "code",
   "execution_count": 25,
   "metadata": {},
   "outputs": [],
   "source": [
    "def make_predict(img_path): \n",
    "    class_dic = {}\n",
    "    for k, v in test_generator.class_indices.items():\n",
    "        class_dic[v] = k\n",
    "    \n",
    "    \n",
    "    y_prob = model.predict(to_tensor(img_path))\n",
    "    y_classes = y_prob.argmax(axis=-1)\n",
    "    return class_dic[y_classes[0]]"
   ]
  },
  {
   "cell_type": "code",
   "execution_count": 26,
   "metadata": {},
   "outputs": [
    {
     "data": {
      "text/plain": [
       "'benign'"
      ]
     },
     "execution_count": 26,
     "metadata": {},
     "output_type": "execute_result"
    }
   ],
   "source": [
    "img_path = \"original_data/test/benign/ISIC_0004472.jpg\"\n",
    "make_predict(img_path)"
   ]
  },
  {
   "cell_type": "code",
   "execution_count": 27,
   "metadata": {},
   "outputs": [
    {
     "name": "stdout",
     "output_type": "stream",
     "text": [
      "{'benign': 0, 'malignant': 1}\n",
      "{0: 'benign', 1: 'malignant'}\n"
     ]
    }
   ],
   "source": [
    "class_dic = dict(test_generator.class_indices)\n",
    "print(class_dic)\n",
    "\n",
    "one_hot = {}\n",
    "for k, v in test_generator.class_indices.items():\n",
    "    one_hot[v] = k\n",
    "print(one_hot)"
   ]
  },
  {
   "cell_type": "code",
   "execution_count": 28,
   "metadata": {},
   "outputs": [],
   "source": [
    "from os import listdir \n",
    "\n",
    "y_true = [] \n",
    "y_pred = []\n",
    "\n",
    "class_name = \"benign\"\n",
    "for img in listdir(\"original_data/test/{}/\".format(class_name)):\n",
    "    img_path = \"original_data/test/{}/{}\".format(class_name, img)\n",
    "    pred = make_predict(img_path)\n",
    "    \n",
    "    y_true.append(class_name)\n",
    "    y_pred.append(pred)\n",
    "    \n",
    "class_name = \"malignant\"\n",
    "for img in listdir(\"original_data/test/{}/\".format(class_name)):\n",
    "    img_path = \"original_data/test/{}/{}\".format(class_name, img)\n",
    "    pred = make_predict(img_path)\n",
    "    \n",
    "    y_true.append(class_name)\n",
    "    y_pred.append(pred)\n",
    "    "
   ]
  },
  {
   "cell_type": "code",
   "execution_count": null,
   "metadata": {},
   "outputs": [],
   "source": []
  },
  {
   "cell_type": "code",
   "execution_count": 29,
   "metadata": {},
   "outputs": [
    {
     "data": {
      "text/plain": [
       "True"
      ]
     },
     "execution_count": 29,
     "metadata": {},
     "output_type": "execute_result"
    }
   ],
   "source": [
    "len(y_true) == len(y_pred)"
   ]
  },
  {
   "cell_type": "code",
   "execution_count": 30,
   "metadata": {},
   "outputs": [],
   "source": [
    "from sklearn.metrics import confusion_matrix\n",
    "cm = confusion_matrix(y_true, y_pred, labels=[\"benign\", \"malignant\"])"
   ]
  },
  {
   "cell_type": "code",
   "execution_count": 31,
   "metadata": {},
   "outputs": [],
   "source": [
    "import pandas as pd\n",
    "df_cm = pd.DataFrame(cm, [\"benign\", \"malignant\"], [\"benign\", \"malignant\"])"
   ]
  },
  {
   "cell_type": "code",
   "execution_count": 32,
   "metadata": {},
   "outputs": [],
   "source": [
    "import seaborn as sn"
   ]
  },
  {
   "cell_type": "code",
   "execution_count": 33,
   "metadata": {},
   "outputs": [
    {
     "data": {
      "image/png": "[encoded data removed]",
      "text/plain": [
       "<Figure size 432x288 with 2 Axes>"
      ]
     },
     "metadata": {},
     "output_type": "display_data"
    }
   ],
   "source": [
    "sn.set(font_scale=1.4)#for label size\n",
    "sn.heatmap(df_cm, annot=True,annot_kws={\"size\": 16}).set_title(\"Confusion matrix trained with cropped images\")# font size\n",
    "plt.show()"
   ]
  },
  {
   "cell_type": "code",
   "execution_count": 34,
   "metadata": {},
   "outputs": [
    {
     "data": {
      "text/plain": [
       "0.7105263157894737"
      ]
     },
     "execution_count": 34,
     "metadata": {},
     "output_type": "execute_result"
    }
   ],
   "source": [
    "from sklearn.metrics import f1_score\n",
    "y_true_01 = [class_dic[p] for p in y_true]\n",
    "y_pred_01 = [class_dic[p] for p in y_pred]\n",
    "f1_score(y_true_01, y_pred_01)"
   ]
  },
  {
   "cell_type": "code",
   "execution_count": 35,
   "metadata": {},
   "outputs": [
    {
     "data": {
      "text/plain": [
       "0.6428571428571429"
      ]
     },
     "execution_count": 35,
     "metadata": {},
     "output_type": "execute_result"
    }
   ],
   "source": [
    "from sklearn.metrics import recall_score\n",
    "recall_score(y_true_01, y_pred_01) "
   ]
  },
  {
   "cell_type": "code",
   "execution_count": 36,
   "metadata": {},
   "outputs": [
    {
     "data": {
      "text/plain": [
       "0.7941176470588235"
      ]
     },
     "execution_count": 36,
     "metadata": {},
     "output_type": "execute_result"
    }
   ],
   "source": [
    "from sklearn.metrics import precision_score\n",
    "precision_score(y_true_01, y_pred_01) "
   ]
  },
  {
   "cell_type": "code",
   "execution_count": 51,
   "metadata": {},
   "outputs": [],
   "source": [
    "# y_pred_01"
   ]
  },
  {
   "cell_type": "code",
   "execution_count": null,
   "metadata": {},
   "outputs": [],
   "source": []
  },
  {
   "cell_type": "code",
   "execution_count": null,
   "metadata": {},
   "outputs": [],
   "source": []
  },
  {
   "cell_type": "code",
   "execution_count": null,
   "metadata": {},
   "outputs": [],
   "source": []
  }
 ],
 "metadata": {
  "kernelspec": {
   "display_name": "Python 3",
   "language": "python",
   "name": "python3"
  },
  "language_info": {
   "codemirror_mode": {
    "name": "ipython",
    "version": 3
   },
   "file_extension": ".py",
   "mimetype": "text/x-python",
   "name": "python",
   "nbconvert_exporter": "python",
   "pygments_lexer": "ipython3",
   "version": "3.6.6"
  }
 },
 "nbformat": 4,
 "nbformat_minor": 2
}
