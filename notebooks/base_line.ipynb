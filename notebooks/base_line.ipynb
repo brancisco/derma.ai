{
 "cells": [
  {
   "cell_type": "code",
   "execution_count": 1,
   "metadata": {},
   "outputs": [
    {
     "name": "stderr",
     "output_type": "stream",
     "text": [
      "Using TensorFlow backend.\n"
     ]
    }
   ],
   "source": [
    "from keras.preprocessing.image import ImageDataGenerator\n",
    "from keras.applications.inception_v3 import preprocess_input"
   ]
  },
  {
   "cell_type": "code",
   "execution_count": 2,
   "metadata": {},
   "outputs": [],
   "source": [
    "train_path = \"original_data/training\"\n",
    "validation_path = \"original_data/validation\"\n",
    "test_path = \"original_data/test\""
   ]
  },
  {
   "cell_type": "code",
   "execution_count": 3,
   "metadata": {},
   "outputs": [],
   "source": [
    "dimentions = (299, 299)\n",
    "batch_size = 64\n",
    "\n",
    "n_class = 2"
   ]
  },
  {
   "cell_type": "code",
   "execution_count": 4,
   "metadata": {},
   "outputs": [],
   "source": [
    "train_datagen  = ImageDataGenerator(\n",
    "    preprocessing_function=preprocess_input,\n",
    ")"
   ]
  },
  {
   "cell_type": "code",
   "execution_count": 5,
   "metadata": {},
   "outputs": [],
   "source": [
    "valid_datagen  = ImageDataGenerator(\n",
    "    preprocessing_function=preprocess_input,\n",
    ")"
   ]
  },
  {
   "cell_type": "code",
   "execution_count": 6,
   "metadata": {},
   "outputs": [
    {
     "name": "stdout",
     "output_type": "stream",
     "text": [
      "Found 717 images belonging to 2 classes.\n"
     ]
    }
   ],
   "source": [
    "train_generator = train_datagen.flow_from_directory(\n",
    "    train_path, \n",
    "    target_size=dimentions,\n",
    "    batch_size=batch_size\n",
    ")"
   ]
  },
  {
   "cell_type": "code",
   "execution_count": 7,
   "metadata": {},
   "outputs": [
    {
     "name": "stdout",
     "output_type": "stream",
     "text": [
      "Found 239 images belonging to 2 classes.\n"
     ]
    }
   ],
   "source": [
    "validation_generator = valid_datagen.flow_from_directory(\n",
    "    validation_path, \n",
    "    target_size=dimentions,\n",
    "    batch_size=batch_size\n",
    ")"
   ]
  },
  {
   "cell_type": "code",
   "execution_count": 8,
   "metadata": {},
   "outputs": [
    {
     "name": "stdout",
     "output_type": "stream",
     "text": [
      "Found 239 images belonging to 2 classes.\n"
     ]
    }
   ],
   "source": [
    "test_generator = valid_datagen.flow_from_directory(\n",
    "    test_path, \n",
    "    target_size=dimentions,\n",
    "    batch_size=batch_size\n",
    ")"
   ]
  },
  {
   "cell_type": "code",
   "execution_count": null,
   "metadata": {},
   "outputs": [],
   "source": []
  },
  {
   "cell_type": "code",
   "execution_count": 9,
   "metadata": {},
   "outputs": [],
   "source": [
    "from keras.applications.inception_v3 import InceptionV3\n",
    "from keras.layers import GlobalAveragePooling2D, Dropout, Dense, Input\n",
    "from keras.models import Model\n",
    "\n",
    "base_model = InceptionV3(\n",
    "    weights='imagenet', \n",
    "    include_top=False,\n",
    ")\n",
    "\n",
    "x = base_model.output \n",
    "x = GlobalAveragePooling2D()(x) \n",
    "x = Dense(1024, activation='relu')(x) \n",
    "predictions = Dense(n_class, activation='softmax')(x)    \n",
    "model = Model(inputs=base_model.input, outputs=predictions)"
   ]
  },
  {
   "cell_type": "code",
   "execution_count": null,
   "metadata": {},
   "outputs": [],
   "source": []
  },
  {
   "cell_type": "code",
   "execution_count": 10,
   "metadata": {},
   "outputs": [],
   "source": [
    "from keras import metrics\n",
    "\n",
    "model.compile(\n",
    "    optimizer='adam',\n",
    "    loss='categorical_crossentropy', \n",
    "    metrics=['accuracy']\n",
    ")"
   ]
  },
  {
   "cell_type": "code",
   "execution_count": 11,
   "metadata": {},
   "outputs": [],
   "source": [
    "from keras.callbacks import ModelCheckpoint  \n",
    "\n",
    "# !mkdir saved_models\n",
    "\n",
    "model_file = 'saved_models/baseline_weights.best.InceptionV3.hdf5'\n",
    "checkpointer = ModelCheckpoint(filepath=model_file, \n",
    "                               verbose=1, save_best_only=True)"
   ]
  },
  {
   "cell_type": "code",
   "execution_count": 12,
   "metadata": {},
   "outputs": [],
   "source": [
    "epochs = 10"
   ]
  },
  {
   "cell_type": "code",
   "execution_count": 13,
   "metadata": {},
   "outputs": [
    {
     "name": "stdout",
     "output_type": "stream",
     "text": [
      "Epoch 1/10\n",
      "11/11 [==============================] - 146s 13s/step - loss: 0.2811 - acc: 0.9077 - val_loss: 0.3788 - val_acc: 0.8385\n",
      "\n",
      "Epoch 00001: val_loss improved from inf to 0.37880, saving model to saved_models/baseline_weights.best.InceptionV3.hdf5\n",
      "Epoch 2/10\n",
      "11/11 [==============================] - 59s 5s/step - loss: 0.0887 - acc: 0.9643 - val_loss: 2.9657 - val_acc: 0.3771\n",
      "\n",
      "Epoch 00002: val_loss did not improve from 0.37880\n",
      "Epoch 3/10\n",
      "11/11 [==============================] - 97s 9s/step - loss: 0.0794 - acc: 0.9714 - val_loss: 3.2260 - val_acc: 0.3200\n",
      "\n",
      "Epoch 00003: val_loss did not improve from 0.37880\n",
      "Epoch 4/10\n",
      "11/11 [==============================] - 99s 9s/step - loss: 0.0900 - acc: 0.9606 - val_loss: 0.6702 - val_acc: 0.8743\n",
      "\n",
      "Epoch 00004: val_loss did not improve from 0.37880\n",
      "Epoch 5/10\n",
      "11/11 [==============================] - 97s 9s/step - loss: 0.0764 - acc: 0.9677 - val_loss: 0.1690 - val_acc: 0.9531\n",
      "\n",
      "Epoch 00005: val_loss improved from 0.37880 to 0.16901, saving model to saved_models/baseline_weights.best.InceptionV3.hdf5\n",
      "Epoch 6/10\n",
      "11/11 [==============================] - 97s 9s/step - loss: 0.0578 - acc: 0.9663 - val_loss: 1.8165 - val_acc: 0.7600\n",
      "\n",
      "Epoch 00006: val_loss did not improve from 0.16901\n",
      "Epoch 7/10\n",
      "11/11 [==============================] - 101s 9s/step - loss: 0.0814 - acc: 0.9814 - val_loss: 1.0145 - val_acc: 0.8571\n",
      "\n",
      "Epoch 00007: val_loss did not improve from 0.16901\n",
      "Epoch 8/10\n",
      "11/11 [==============================] - 97s 9s/step - loss: 0.0894 - acc: 0.9728 - val_loss: 1.4138 - val_acc: 0.8743\n",
      "\n",
      "Epoch 00008: val_loss did not improve from 0.16901\n",
      "Epoch 9/10\n",
      "11/11 [==============================] - 99s 9s/step - loss: 0.0740 - acc: 0.9786 - val_loss: 3.4855 - val_acc: 0.5833\n",
      "\n",
      "Epoch 00009: val_loss did not improve from 0.16901\n",
      "Epoch 10/10\n",
      "11/11 [==============================] - 97s 9s/step - loss: 0.0636 - acc: 0.9671 - val_loss: 1.8583 - val_acc: 0.6971\n",
      "\n",
      "Epoch 00010: val_loss did not improve from 0.16901\n"
     ]
    }
   ],
   "source": [
    "train_history = model.fit_generator(train_generator, \n",
    "                                    validation_data=validation_generator, \n",
    "                                    epochs=epochs, \n",
    "                                    callbacks=[checkpointer],\n",
    "                                    steps_per_epoch=train_generator.samples // batch_size, \n",
    "                                    validation_steps=validation_generator.samples // batch_size\n",
    "                                   )"
   ]
  },
  {
   "cell_type": "code",
   "execution_count": null,
   "metadata": {},
   "outputs": [],
   "source": []
  },
  {
   "cell_type": "code",
   "execution_count": 14,
   "metadata": {},
   "outputs": [
    {
     "data": {
      "text/plain": [
       "{'val_loss': [0.3787964383761088,\n",
       "  2.96565016746521,\n",
       "  3.2259712300981795,\n",
       "  0.6702239390781948,\n",
       "  0.16901089747746786,\n",
       "  1.8165020608901978,\n",
       "  1.0144923298699515,\n",
       "  1.4137727647168297,\n",
       "  3.485507329305013,\n",
       "  1.858324144227164],\n",
       " 'val_acc': [0.8385416666666666,\n",
       "  0.37714286088943483,\n",
       "  0.3200000011920929,\n",
       "  0.8742857183728899,\n",
       "  0.953125,\n",
       "  0.7600000061307635,\n",
       "  0.8571428619112287,\n",
       "  0.8742857149669102,\n",
       "  0.5833333333333334,\n",
       "  0.6971428527150836],\n",
       " 'loss': [0.281087763607502,\n",
       "  0.0917948490924346,\n",
       "  0.08297820386133095,\n",
       "  0.0892152293238669,\n",
       "  0.07284650044547106,\n",
       "  0.05793438230000813,\n",
       "  0.08713672975856229,\n",
       "  0.08970289716174737,\n",
       "  0.07909600668377136,\n",
       "  0.06727674555683802],\n",
       " 'acc': [0.9076704545454546,\n",
       "  0.9617151607963247,\n",
       "  0.9693721286370597,\n",
       "  0.9632465544557498,\n",
       "  0.9709035222964849,\n",
       "  0.9693721287283379,\n",
       "  0.9800918836140888,\n",
       "  0.9709035222052067,\n",
       "  0.9770290964777948,\n",
       "  0.9647779479326187]}"
      ]
     },
     "execution_count": 14,
     "metadata": {},
     "output_type": "execute_result"
    }
   ],
   "source": [
    "train_history.history"
   ]
  },
  {
   "cell_type": "code",
   "execution_count": 15,
   "metadata": {},
   "outputs": [],
   "source": [
    "import matplotlib.pyplot as plt"
   ]
  },
  {
   "cell_type": "code",
   "execution_count": 16,
   "metadata": {},
   "outputs": [
    {
     "data": {
      "image/png": "[encoded data removed]",
      "text/plain": [
       "<Figure size 432x288 with 1 Axes>"
      ]
     },
     "metadata": {
      "needs_background": "light"
     },
     "output_type": "display_data"
    }
   ],
   "source": [
    "plt.plot(train_history.history['acc'])\n",
    "plt.plot(train_history.history['val_acc'])\n",
    "plt.title('model accuracy')\n",
    "plt.ylabel('accuracy')\n",
    "plt.xlabel('epoch')\n",
    "plt.legend(['train', 'validation'])\n",
    "plt.show()"
   ]
  },
  {
   "cell_type": "code",
   "execution_count": 17,
   "metadata": {},
   "outputs": [
    {
     "data": {
      "image/png": "[encoded data removed]",
      "text/plain": [
       "<Figure size 432x288 with 1 Axes>"
      ]
     },
     "metadata": {
      "needs_background": "light"
     },
     "output_type": "display_data"
    }
   ],
   "source": [
    "plt.plot(train_history.history['loss'])\n",
    "plt.plot(train_history.history['val_acc'])\n",
    "plt.title('model loss')\n",
    "plt.ylabel('loss')\n",
    "plt.xlabel('epoch')\n",
    "plt.legend(['train', 'validation'])\n",
    "plt.show()"
   ]
  },
  {
   "cell_type": "code",
   "execution_count": 18,
   "metadata": {},
   "outputs": [],
   "source": [
    "model.load_weights(model_file)\n",
    "tesr_result = model.evaluate_generator(test_generator, steps=10)"
   ]
  },
  {
   "cell_type": "code",
   "execution_count": 19,
   "metadata": {},
   "outputs": [
    {
     "data": {
      "text/plain": [
       "[0.47742996726295733, 0.8663366358272313]"
      ]
     },
     "execution_count": 19,
     "metadata": {},
     "output_type": "execute_result"
    }
   ],
   "source": [
    "tesr_result"
   ]
  },
  {
   "cell_type": "code",
   "execution_count": 20,
   "metadata": {},
   "outputs": [],
   "source": [
    "predict = model.predict_generator(test_generator,steps = 10)"
   ]
  },
  {
   "cell_type": "code",
   "execution_count": 21,
   "metadata": {},
   "outputs": [],
   "source": [
    "import cv2\n",
    "import numpy as np\n",
    "\n",
    "\n",
    "from keras.preprocessing import image\n",
    "# img = cv2.imread(path_to_one_file)\n",
    "# img = np.array([img]).reshape((1, 3, 299, 299))\n",
    "\n",
    "def to_tensor(img_path): \n",
    "    img = image.load_img(img_path, target_size=(299, 299))\n",
    "    img_tensor = image.img_to_array(img)                    # (height, width, channels)\n",
    "    img_tensor = np.expand_dims(img_tensor, axis=0)         # (1, height, width, channels), add a dimension because the model expects this shape: (batch_size, height, width, channels)\n",
    "    img_tensor /= 255. \n",
    "    \n",
    "    return img_tensor"
   ]
  },
  {
   "cell_type": "code",
   "execution_count": 22,
   "metadata": {},
   "outputs": [],
   "source": [
    "def make_predict(img_path): \n",
    "    class_dic = {}\n",
    "    for k, v in test_generator.class_indices.items():\n",
    "        class_dic[v] = k\n",
    "    \n",
    "    \n",
    "    y_prob = model.predict(to_tensor(img_path))\n",
    "    y_classes = y_prob.argmax(axis=-1)\n",
    "    return class_dic[y_classes[0]]"
   ]
  },
  {
   "cell_type": "code",
   "execution_count": 23,
   "metadata": {},
   "outputs": [
    {
     "data": {
      "text/plain": [
       "'benign'"
      ]
     },
     "execution_count": 23,
     "metadata": {},
     "output_type": "execute_result"
    }
   ],
   "source": [
    "img_path = \"original_data/test/benign/ISIC_0004472.jpg\"\n",
    "make_predict(img_path)"
   ]
  },
  {
   "cell_type": "code",
   "execution_count": 24,
   "metadata": {},
   "outputs": [
    {
     "name": "stdout",
     "output_type": "stream",
     "text": [
      "{'benign': 0, 'malignant': 1}\n",
      "{0: 'benign', 1: 'malignant'}\n"
     ]
    }
   ],
   "source": [
    "class_dic = dict(test_generator.class_indices)\n",
    "print(class_dic)\n",
    "\n",
    "one_hot = {}\n",
    "for k, v in test_generator.class_indices.items():\n",
    "    one_hot[v] = k\n",
    "print(one_hot)"
   ]
  },
  {
   "cell_type": "code",
   "execution_count": 25,
   "metadata": {},
   "outputs": [],
   "source": [
    "from os import listdir \n",
    "\n",
    "y_true = [] \n",
    "y_pred = []\n",
    "\n",
    "class_name = \"benign\"\n",
    "for img in listdir(\"original_data/test/{}/\".format(class_name)):\n",
    "    img_path = \"original_data/test/{}/{}\".format(class_name, img)\n",
    "    pred = make_predict(img_path)\n",
    "    \n",
    "    y_true.append(class_name)\n",
    "    y_pred.append(pred)\n",
    "    \n",
    "class_name = \"malignant\"\n",
    "for img in listdir(\"original_data/test/{}/\".format(class_name)):\n",
    "    img_path = \"original_data/test/{}/{}\".format(class_name, img)\n",
    "    pred = make_predict(img_path)\n",
    "    \n",
    "    y_true.append(class_name)\n",
    "    y_pred.append(pred)\n",
    "    "
   ]
  },
  {
   "cell_type": "code",
   "execution_count": null,
   "metadata": {},
   "outputs": [],
   "source": []
  },
  {
   "cell_type": "code",
   "execution_count": 26,
   "metadata": {},
   "outputs": [
    {
     "data": {
      "text/plain": [
       "True"
      ]
     },
     "execution_count": 26,
     "metadata": {},
     "output_type": "execute_result"
    }
   ],
   "source": [
    "len(y_true) == len(y_pred)"
   ]
  },
  {
   "cell_type": "code",
   "execution_count": 27,
   "metadata": {},
   "outputs": [],
   "source": [
    "from sklearn.metrics import confusion_matrix\n",
    "cm = confusion_matrix(y_true, y_pred, labels=[\"benign\", \"malignant\"])"
   ]
  },
  {
   "cell_type": "code",
   "execution_count": 28,
   "metadata": {},
   "outputs": [],
   "source": [
    "import pandas as pd\n",
    "df_cm = pd.DataFrame(cm, [\"benign\", \"malignant\"], [\"benign\", \"malignant\"])"
   ]
  },
  {
   "cell_type": "code",
   "execution_count": 29,
   "metadata": {},
   "outputs": [],
   "source": [
    "import seaborn as sn"
   ]
  },
  {
   "cell_type": "code",
   "execution_count": 30,
   "metadata": {},
   "outputs": [
    {
     "data": {
      "image/png": "[encoded data removed]",
      "text/plain": [
       "<Figure size 432x288 with 2 Axes>"
      ]
     },
     "metadata": {},
     "output_type": "display_data"
    }
   ],
   "source": [
    "sn.set(font_scale=1.4)#for label size\n",
    "sn.heatmap(df_cm, annot=True,annot_kws={\"size\": 16}).set_title(\"Confusion matrix baseline model\")# font size\n",
    "plt.show()"
   ]
  },
  {
   "cell_type": "code",
   "execution_count": 31,
   "metadata": {},
   "outputs": [
    {
     "data": {
      "text/plain": [
       "0.7105263157894737"
      ]
     },
     "execution_count": 31,
     "metadata": {},
     "output_type": "execute_result"
    }
   ],
   "source": [
    "from sklearn.metrics import f1_score\n",
    "y_true_01 = [class_dic[p] for p in y_true]\n",
    "y_pred_01 = [class_dic[p] for p in y_pred]\n",
    "f1_score(y_true_01, y_pred_01)"
   ]
  },
  {
   "cell_type": "code",
   "execution_count": 32,
   "metadata": {},
   "outputs": [
    {
     "data": {
      "text/plain": [
       "0.6428571428571429"
      ]
     },
     "execution_count": 32,
     "metadata": {},
     "output_type": "execute_result"
    }
   ],
   "source": [
    "from sklearn.metrics import recall_score\n",
    "recall_score(y_true_01, y_pred_01)"
   ]
  },
  {
   "cell_type": "code",
   "execution_count": 33,
   "metadata": {},
   "outputs": [
    {
     "data": {
      "text/plain": [
       "0.7941176470588235"
      ]
     },
     "execution_count": 33,
     "metadata": {},
     "output_type": "execute_result"
    }
   ],
   "source": [
    "from sklearn.metrics import precision_score\n",
    "precision_score(y_true_01, y_pred_01)"
   ]
  },
  {
   "cell_type": "code",
   "execution_count": null,
   "metadata": {},
   "outputs": [],
   "source": []
  },
  {
   "cell_type": "code",
   "execution_count": null,
   "metadata": {},
   "outputs": [],
   "source": []
  },
  {
   "cell_type": "code",
   "execution_count": null,
   "metadata": {},
   "outputs": [],
   "source": []
  },
  {
   "cell_type": "code",
   "execution_count": null,
   "metadata": {},
   "outputs": [],
   "source": []
  }
 ],
 "metadata": {
  "kernelspec": {
   "display_name": "Python 3",
   "language": "python",
   "name": "python3"
  },
  "language_info": {
   "codemirror_mode": {
    "name": "ipython",
    "version": 3
   },
   "file_extension": ".py",
   "mimetype": "text/x-python",
   "name": "python",
   "nbconvert_exporter": "python",
   "pygments_lexer": "ipython3",
   "version": "3.6.6"
  }
 },
 "nbformat": 4,
 "nbformat_minor": 2
}
