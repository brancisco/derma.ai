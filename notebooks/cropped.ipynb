{
 "cells": [
  {
   "cell_type": "code",
   "execution_count": 1,
   "metadata": {},
   "outputs": [
    {
     "name": "stderr",
     "output_type": "stream",
     "text": [
      "Using TensorFlow backend.\n"
     ]
    }
   ],
   "source": [
    "from keras.preprocessing.image import ImageDataGenerator\n",
    "from keras.applications.inception_v3 import preprocess_input"
   ]
  },
  {
   "cell_type": "code",
   "execution_count": 2,
   "metadata": {},
   "outputs": [],
   "source": [
    "train_path = \"masked_data/training\"\n",
    "validation_path = \"original_data/validation\"\n",
    "test_path = \"original_data/test\""
   ]
  },
  {
   "cell_type": "code",
   "execution_count": 3,
   "metadata": {},
   "outputs": [],
   "source": [
    "dimentions = (299, 299)\n",
    "batch_size = 64\n",
    "\n",
    "n_class = 2"
   ]
  },
  {
   "cell_type": "code",
   "execution_count": 4,
   "metadata": {},
   "outputs": [],
   "source": [
    "train_datagen  = ImageDataGenerator(\n",
    "    preprocessing_function=preprocess_input,\n",
    ")"
   ]
  },
  {
   "cell_type": "code",
   "execution_count": 5,
   "metadata": {},
   "outputs": [],
   "source": [
    "valid_datagen  = ImageDataGenerator(\n",
    "    preprocessing_function=preprocess_input,\n",
    ")"
   ]
  },
  {
   "cell_type": "code",
   "execution_count": 6,
   "metadata": {},
   "outputs": [
    {
     "name": "stdout",
     "output_type": "stream",
     "text": [
      "Found 1427 images belonging to 2 classes.\n"
     ]
    }
   ],
   "source": [
    "train_generator = train_datagen.flow_from_directory(\n",
    "    train_path, \n",
    "    target_size=dimentions,\n",
    "    batch_size=batch_size\n",
    ")"
   ]
  },
  {
   "cell_type": "code",
   "execution_count": 7,
   "metadata": {},
   "outputs": [
    {
     "name": "stdout",
     "output_type": "stream",
     "text": [
      "Found 239 images belonging to 2 classes.\n"
     ]
    }
   ],
   "source": [
    "validation_generator = valid_datagen.flow_from_directory(\n",
    "    validation_path, \n",
    "    target_size=dimentions,\n",
    "    batch_size=batch_size\n",
    ")"
   ]
  },
  {
   "cell_type": "code",
   "execution_count": 8,
   "metadata": {},
   "outputs": [
    {
     "name": "stdout",
     "output_type": "stream",
     "text": [
      "Found 239 images belonging to 2 classes.\n"
     ]
    }
   ],
   "source": [
    "test_generator = valid_datagen.flow_from_directory(\n",
    "    test_path, \n",
    "    target_size=dimentions,\n",
    "    batch_size=batch_size\n",
    ")"
   ]
  },
  {
   "cell_type": "code",
   "execution_count": null,
   "metadata": {},
   "outputs": [],
   "source": []
  },
  {
   "cell_type": "code",
   "execution_count": 9,
   "metadata": {},
   "outputs": [],
   "source": [
    "from keras.applications.inception_v3 import InceptionV3\n",
    "from keras.layers import GlobalAveragePooling2D, Dropout, Dense, Input\n",
    "from keras.models import Model\n",
    "\n",
    "base_model = InceptionV3(\n",
    "    weights='imagenet', \n",
    "    include_top=False,\n",
    ")\n",
    "\n",
    "x = base_model.output \n",
    "x = GlobalAveragePooling2D()(x) \n",
    "x = Dense(1024, activation='relu')(x) \n",
    "predictions = Dense(n_class, activation='softmax')(x)    \n",
    "model = Model(inputs=base_model.input, outputs=predictions)"
   ]
  },
  {
   "cell_type": "code",
   "execution_count": null,
   "metadata": {},
   "outputs": [],
   "source": []
  },
  {
   "cell_type": "code",
   "execution_count": 10,
   "metadata": {},
   "outputs": [],
   "source": [
    "from keras import metrics\n",
    "\n",
    "model.compile(\n",
    "    optimizer='adam',\n",
    "    loss='categorical_crossentropy', \n",
    "    metrics=['accuracy']\n",
    ")"
   ]
  },
  {
   "cell_type": "code",
   "execution_count": 11,
   "metadata": {},
   "outputs": [],
   "source": [
    "from keras.callbacks import ModelCheckpoint  \n",
    "\n",
    "# !mkdir saved_models\n",
    "\n",
    "model_file = 'saved_models/cropped_weights.best.InceptionV3.hdf5'\n",
    "checkpointer = ModelCheckpoint(filepath=model_file, \n",
    "                               verbose=1, save_best_only=True)"
   ]
  },
  {
   "cell_type": "code",
   "execution_count": 12,
   "metadata": {},
   "outputs": [],
   "source": [
    "epochs = 10"
   ]
  },
  {
   "cell_type": "code",
   "execution_count": 13,
   "metadata": {},
   "outputs": [
    {
     "name": "stdout",
     "output_type": "stream",
     "text": [
      "Epoch 1/10\n",
      "22/22 [==============================] - 158s 7s/step - loss: 0.2804 - acc: 0.9020 - val_loss: 0.7124 - val_acc: 0.4531\n",
      "\n",
      "Epoch 00001: val_loss improved from inf to 0.71236, saving model to saved_models/cropped_weights.best.InceptionV3.hdf5\n",
      "Epoch 2/10\n",
      "22/22 [==============================] - 75s 3s/step - loss: 0.1290 - acc: 0.9489 - val_loss: 0.8258 - val_acc: 0.7886\n",
      "\n",
      "Epoch 00002: val_loss did not improve from 0.71236\n",
      "Epoch 3/10\n",
      "22/22 [==============================] - 113s 5s/step - loss: 0.0986 - acc: 0.9621 - val_loss: 0.1177 - val_acc: 0.9657\n",
      "\n",
      "Epoch 00003: val_loss improved from 0.71236 to 0.11770, saving model to saved_models/cropped_weights.best.InceptionV3.hdf5\n",
      "Epoch 4/10\n",
      "22/22 [==============================] - 114s 5s/step - loss: 0.0701 - acc: 0.9723 - val_loss: 2.1634 - val_acc: 0.5200\n",
      "\n",
      "Epoch 00004: val_loss did not improve from 0.11770\n",
      "Epoch 5/10\n",
      "22/22 [==============================] - 115s 5s/step - loss: 0.1120 - acc: 0.9555 - val_loss: 0.5801 - val_acc: 0.6927\n",
      "\n",
      "Epoch 00005: val_loss did not improve from 0.11770\n",
      "Epoch 6/10\n",
      "22/22 [==============================] - 113s 5s/step - loss: 0.0732 - acc: 0.9714 - val_loss: 0.2722 - val_acc: 0.9143\n",
      "\n",
      "Epoch 00006: val_loss did not improve from 0.11770\n",
      "Epoch 7/10\n",
      "22/22 [==============================] - 112s 5s/step - loss: 0.0792 - acc: 0.9719 - val_loss: 2.3048 - val_acc: 0.8514\n",
      "\n",
      "Epoch 00007: val_loss did not improve from 0.11770\n",
      "Epoch 8/10\n",
      "22/22 [==============================] - 116s 5s/step - loss: 0.0412 - acc: 0.9815 - val_loss: 0.9882 - val_acc: 0.9257\n",
      "\n",
      "Epoch 00008: val_loss did not improve from 0.11770\n",
      "Epoch 9/10\n",
      "22/22 [==============================] - 115s 5s/step - loss: 0.0657 - acc: 0.9754 - val_loss: 0.2535 - val_acc: 0.9688\n",
      "\n",
      "Epoch 00009: val_loss did not improve from 0.11770\n",
      "Epoch 10/10\n",
      "22/22 [==============================] - 114s 5s/step - loss: 0.0336 - acc: 0.9915 - val_loss: 1.5513 - val_acc: 0.7029\n",
      "\n",
      "Epoch 00010: val_loss did not improve from 0.11770\n"
     ]
    }
   ],
   "source": [
    "train_history = model.fit_generator(train_generator, \n",
    "                                    validation_data=validation_generator, \n",
    "                                    epochs=epochs, \n",
    "                                    callbacks=[checkpointer],\n",
    "                                    steps_per_epoch=train_generator.samples // batch_size, \n",
    "                                    validation_steps=validation_generator.samples // batch_size\n",
    "                                   )"
   ]
  },
  {
   "cell_type": "code",
   "execution_count": null,
   "metadata": {},
   "outputs": [],
   "source": []
  },
  {
   "cell_type": "code",
   "execution_count": 14,
   "metadata": {},
   "outputs": [
    {
     "data": {
      "text/plain": [
       "{'val_loss': [0.712361752986908,\n",
       "  0.8257663008144923,\n",
       "  0.11769883287804467,\n",
       "  2.163432797023228,\n",
       "  0.5800972282886505,\n",
       "  0.2721663214479174,\n",
       "  2.304776199885777,\n",
       "  0.9882238721847534,\n",
       "  0.25349348364397883,\n",
       "  1.5513217244829451],\n",
       " 'val_acc': [0.453125,\n",
       "  0.7885714207376753,\n",
       "  0.9657142870766776,\n",
       "  0.5199999982970102,\n",
       "  0.6927083333333334,\n",
       "  0.914285717691694,\n",
       "  0.851428576196943,\n",
       "  0.9257142884390694,\n",
       "  0.96875,\n",
       "  0.7028571357045855],\n",
       " 'loss': [0.28044936297969386,\n",
       "  0.11969321944306024,\n",
       "  0.09697958730811682,\n",
       "  0.07154106642157167,\n",
       "  0.10531909082710787,\n",
       "  0.07209923302020908,\n",
       "  0.07520936215221226,\n",
       "  0.04136552857897864,\n",
       "  0.05761751858346705,\n",
       "  0.03395553975778079],\n",
       " 'acc': [0.9019886363636364,\n",
       "  0.9523110785907625,\n",
       "  0.9625825388240884,\n",
       "  0.971386647101981,\n",
       "  0.9574468082919859,\n",
       "  0.9721203231234281,\n",
       "  0.9743213497446638,\n",
       "  0.9809244314013206,\n",
       "  0.9779897283213329,\n",
       "  0.9911958914159942]}"
      ]
     },
     "execution_count": 14,
     "metadata": {},
     "output_type": "execute_result"
    }
   ],
   "source": [
    "train_history.history"
   ]
  },
  {
   "cell_type": "code",
   "execution_count": 15,
   "metadata": {},
   "outputs": [],
   "source": [
    "import matplotlib.pyplot as plt"
   ]
  },
  {
   "cell_type": "code",
   "execution_count": 16,
   "metadata": {},
   "outputs": [
    {
     "data": {
      "image/png": "[encoded data removed]",
      "text/plain": [
       "<Figure size 432x288 with 1 Axes>"
      ]
     },
     "metadata": {
      "needs_background": "light"
     },
     "output_type": "display_data"
    }
   ],
   "source": [
    "plt.plot(train_history.history['acc'])\n",
    "plt.plot(train_history.history['val_acc'])\n",
    "plt.title('model accuracy')\n",
    "plt.ylabel('accuracy')\n",
    "plt.xlabel('epoch')\n",
    "plt.legend(['train', 'validation'])\n",
    "plt.show()"
   ]
  },
  {
   "cell_type": "code",
   "execution_count": 17,
   "metadata": {},
   "outputs": [
    {
     "data": {
      "image/png": "[encoded data removed]",
      "text/plain": [
       "<Figure size 432x288 with 1 Axes>"
      ]
     },
     "metadata": {
      "needs_background": "light"
     },
     "output_type": "display_data"
    }
   ],
   "source": [
    "plt.plot(train_history.history['loss'])\n",
    "plt.plot(train_history.history['val_acc'])\n",
    "plt.title('model loss')\n",
    "plt.ylabel('loss')\n",
    "plt.xlabel('epoch')\n",
    "plt.legend(['train', 'validation'])\n",
    "plt.show()"
   ]
  },
  {
   "cell_type": "code",
   "execution_count": 18,
   "metadata": {},
   "outputs": [],
   "source": [
    "model.load_weights(model_file)\n",
    "tesr_result = model.evaluate_generator(test_generator, steps=10)"
   ]
  },
  {
   "cell_type": "code",
   "execution_count": 19,
   "metadata": {},
   "outputs": [
    {
     "data": {
      "text/plain": [
       "[0.5895073659250839, 0.900990100780336]"
      ]
     },
     "execution_count": 19,
     "metadata": {},
     "output_type": "execute_result"
    }
   ],
   "source": [
    "tesr_result"
   ]
  },
  {
   "cell_type": "code",
   "execution_count": 20,
   "metadata": {},
   "outputs": [],
   "source": [
    "predict = model.predict_generator(test_generator,steps = 10)"
   ]
  },
  {
   "cell_type": "code",
   "execution_count": 21,
   "metadata": {},
   "outputs": [],
   "source": [
    "import cv2\n",
    "import numpy as np\n",
    "\n",
    "\n",
    "from keras.preprocessing import image\n",
    "# img = cv2.imread(path_to_one_file)\n",
    "# img = np.array([img]).reshape((1, 3, 299, 299))\n",
    "\n",
    "def to_tensor(img_path): \n",
    "    img = image.load_img(img_path, target_size=(299, 299))\n",
    "    img_tensor = image.img_to_array(img)                    # (height, width, channels)\n",
    "    img_tensor = np.expand_dims(img_tensor, axis=0)         # (1, height, width, channels), add a dimension because the model expects this shape: (batch_size, height, width, channels)\n",
    "    img_tensor /= 255. \n",
    "    \n",
    "    return img_tensor"
   ]
  },
  {
   "cell_type": "code",
   "execution_count": 22,
   "metadata": {},
   "outputs": [],
   "source": [
    "def make_predict(img_path): \n",
    "    class_dic = {}\n",
    "    for k, v in test_generator.class_indices.items():\n",
    "        class_dic[v] = k\n",
    "    \n",
    "    \n",
    "    y_prob = model.predict(to_tensor(img_path))\n",
    "    y_classes = y_prob.argmax(axis=-1)\n",
    "    return class_dic[y_classes[0]]"
   ]
  },
  {
   "cell_type": "code",
   "execution_count": 23,
   "metadata": {},
   "outputs": [
    {
     "data": {
      "text/plain": [
       "'benign'"
      ]
     },
     "execution_count": 23,
     "metadata": {},
     "output_type": "execute_result"
    }
   ],
   "source": [
    "img_path = \"original_data/test/benign/ISIC_0004472.jpg\"\n",
    "make_predict(img_path)"
   ]
  },
  {
   "cell_type": "code",
   "execution_count": 24,
   "metadata": {},
   "outputs": [
    {
     "name": "stdout",
     "output_type": "stream",
     "text": [
      "{'benign': 0, 'malignant': 1}\n",
      "{0: 'benign', 1: 'malignant'}\n"
     ]
    }
   ],
   "source": [
    "class_dic = dict(test_generator.class_indices)\n",
    "print(class_dic)\n",
    "\n",
    "one_hot = {}\n",
    "for k, v in test_generator.class_indices.items():\n",
    "    one_hot[v] = k\n",
    "print(one_hot)"
   ]
  },
  {
   "cell_type": "code",
   "execution_count": 25,
   "metadata": {},
   "outputs": [],
   "source": [
    "from os import listdir \n",
    "\n",
    "y_true = [] \n",
    "y_pred = []\n",
    "\n",
    "class_name = \"benign\"\n",
    "for img in listdir(\"original_data/test/{}/\".format(class_name)):\n",
    "    img_path = \"original_data/test/{}/{}\".format(class_name, img)\n",
    "    pred = make_predict(img_path)\n",
    "    \n",
    "    y_true.append(class_name)\n",
    "    y_pred.append(pred)\n",
    "    \n",
    "class_name = \"malignant\"\n",
    "for img in listdir(\"original_data/test/{}/\".format(class_name)):\n",
    "    img_path = \"original_data/test/{}/{}\".format(class_name, img)\n",
    "    pred = make_predict(img_path)\n",
    "    \n",
    "    y_true.append(class_name)\n",
    "    y_pred.append(pred)\n",
    "    "
   ]
  },
  {
   "cell_type": "code",
   "execution_count": null,
   "metadata": {},
   "outputs": [],
   "source": []
  },
  {
   "cell_type": "code",
   "execution_count": 26,
   "metadata": {},
   "outputs": [
    {
     "data": {
      "text/plain": [
       "True"
      ]
     },
     "execution_count": 26,
     "metadata": {},
     "output_type": "execute_result"
    }
   ],
   "source": [
    "len(y_true) == len(y_pred)"
   ]
  },
  {
   "cell_type": "code",
   "execution_count": 27,
   "metadata": {},
   "outputs": [],
   "source": [
    "from sklearn.metrics import confusion_matrix\n",
    "cm = confusion_matrix(y_true, y_pred, labels=[\"benign\", \"malignant\"])"
   ]
  },
  {
   "cell_type": "code",
   "execution_count": 28,
   "metadata": {},
   "outputs": [],
   "source": [
    "import pandas as pd\n",
    "df_cm = pd.DataFrame(cm, [\"benign\", \"malignant\"], [\"benign\", \"malignant\"])"
   ]
  },
  {
   "cell_type": "code",
   "execution_count": 29,
   "metadata": {},
   "outputs": [],
   "source": [
    "import seaborn as sn"
   ]
  },
  {
   "cell_type": "code",
   "execution_count": 30,
   "metadata": {},
   "outputs": [
    {
     "data": {
      "image/png": "[encoded data removed]",
      "text/plain": [
       "<Figure size 432x288 with 2 Axes>"
      ]
     },
     "metadata": {},
     "output_type": "display_data"
    }
   ],
   "source": [
    "sn.set(font_scale=1.4)#for label size\n",
    "sn.heatmap(df_cm, annot=True,annot_kws={\"size\": 16}).set_title(\"Confusion matrix trained with cropped images\")# font size\n",
    "plt.show()"
   ]
  },
  {
   "cell_type": "code",
   "execution_count": 31,
   "metadata": {},
   "outputs": [
    {
     "data": {
      "text/plain": [
       "0.7228915662650603"
      ]
     },
     "execution_count": 31,
     "metadata": {},
     "output_type": "execute_result"
    }
   ],
   "source": [
    "from sklearn.metrics import f1_score\n",
    "y_true_01 = [class_dic[p] for p in y_true]\n",
    "y_pred_01 = [class_dic[p] for p in y_pred]\n",
    "f1_score(y_true_01, y_pred_01)"
   ]
  },
  {
   "cell_type": "code",
   "execution_count": 32,
   "metadata": {},
   "outputs": [
    {
     "data": {
      "text/plain": [
       "0.7142857142857143"
      ]
     },
     "execution_count": 32,
     "metadata": {},
     "output_type": "execute_result"
    }
   ],
   "source": [
    "from sklearn.metrics import recall_score\n",
    "recall_score(y_true_01, y_pred_01) "
   ]
  },
  {
   "cell_type": "code",
   "execution_count": 33,
   "metadata": {},
   "outputs": [
    {
     "data": {
      "text/plain": [
       "0.7317073170731707"
      ]
     },
     "execution_count": 33,
     "metadata": {},
     "output_type": "execute_result"
    }
   ],
   "source": [
    "from sklearn.metrics import precision_score\n",
    "precision_score(y_true_01, y_pred_01) "
   ]
  },
  {
   "cell_type": "code",
   "execution_count": 34,
   "metadata": {},
   "outputs": [],
   "source": [
    "# y_pred_01"
   ]
  },
  {
   "cell_type": "code",
   "execution_count": null,
   "metadata": {},
   "outputs": [],
   "source": []
  },
  {
   "cell_type": "code",
   "execution_count": null,
   "metadata": {},
   "outputs": [],
   "source": []
  },
  {
   "cell_type": "code",
   "execution_count": null,
   "metadata": {},
   "outputs": [],
   "source": []
  }
 ],
 "metadata": {
  "kernelspec": {
   "display_name": "Python 3",
   "language": "python",
   "name": "python3"
  },
  "language_info": {
   "codemirror_mode": {
    "name": "ipython",
    "version": 3
   },
   "file_extension": ".py",
   "mimetype": "text/x-python",
   "name": "python",
   "nbconvert_exporter": "python",
   "pygments_lexer": "ipython3",
   "version": "3.6.6"
  }
 },
 "nbformat": 4,
 "nbformat_minor": 2
}
